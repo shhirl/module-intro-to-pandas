{
 "cells": [
  {
   "cell_type": "markdown",
   "metadata": {},
   "source": [
    "## Numpy: NUMerical PYthon \n",
    "\n",
    "This is Python's stack for scientific computing. The fundamental new data type is that of a **numpy array**, Python's matrix(tensor)-type object, which is used in the majority of Python's modules for Data Analysis, Statistics and Machine Learning  - for example in order to feed data into `sklearn` functions\n",
    "\n",
    "numpy arrays contain data all of the same type (*dtype*), numerical of many types or boolean\n",
    "\n",
    "The coordinates are known as axes"
   ]
  },
  {
   "cell_type": "code",
   "execution_count": 5,
   "metadata": {},
   "outputs": [],
   "source": [
    "# import module \n",
    "import numpy as np"
   ]
  },
  {
   "cell_type": "markdown",
   "metadata": {},
   "source": [
    "To create an array we use the np.array() function"
   ]
  },
  {
   "cell_type": "code",
   "execution_count": 4,
   "metadata": {},
   "outputs": [
    {
     "data": {
      "text/plain": [
       "array([1, 2, 3, 1])"
      ]
     },
     "execution_count": 4,
     "metadata": {},
     "output_type": "execute_result"
    }
   ],
   "source": [
    "np.append(np.array([1,2,3]), 1)"
   ]
  },
  {
   "cell_type": "code",
   "execution_count": null,
   "metadata": {},
   "outputs": [],
   "source": [
    "# creating an array\n",
    "a = np.array([[1, 2, 3, 4, 5, 6], \n",
    "              [42, 53, 43 ,62, 7, 4], \n",
    "              [-3, -1, -4 ,-8, -52, -4], \n",
    "              [10, 0, 4 , 1, 0, 1]])"
   ]
  },
  {
   "cell_type": "markdown",
   "metadata": {},
   "source": [
    "We can access the elements in an array using multi-index notation, familiar in small variations in many computing environments and languages - with the usual Pythonic conventions, e.g., counting starts from 0, slicing a:b is inclusive:exclusive, negative indices, etc\n",
    "\n",
    "What do you think the following piece of code does? \n",
    "\n",
    "```python\n",
    "print(a[-2:,[2,4]])\n",
    "```"
   ]
  },
  {
   "cell_type": "markdown",
   "metadata": {},
   "source": [
    "numpy arrays can be any dimension"
   ]
  },
  {
   "cell_type": "markdown",
   "metadata": {},
   "source": [
    "### Array attributes\n",
    "\n",
    "The array data type has its own attributes. Some worth highlighting are:\n",
    "\n",
    "+ Shape\n",
    "```python\n",
    "arrayname.shape # returns the shape as tuple, e.g. (4,6)\n",
    "arrayname.reshape(arg) # returns a new array with the same data as those in arrayname but organized in different shape - read carefully defaults\n",
    "```\n",
    "+ Aggregations\n",
    "```python\n",
    "arrayname.function(arg) # e.g. function could be sum, max, min, etc. args can be used to specify operation over all elements, or for an axis, etc  - this is much more efficient than looping\n",
    "```\n",
    "+ Linear algebra\n",
    "```python\n",
    "arrayname.transpose(arg)  # transpose - even for multi-d arrays\n",
    "arrayname.diagonal(arg) # diagonal elements as array\n",
    "arrayname.dot(anotherarray) # dot product\n",
    "```\n"
   ]
  },
  {
   "cell_type": "markdown",
   "metadata": {},
   "source": [
    "## Array operations\n",
    "\n",
    "Remember that to concatenate two lists in Python, we could use the \"+\" operator. \n",
    "\n",
    "This is not the case in Numpy!\n",
    "\n",
    "Mathematical symbols take on mathematical meanings in Numpy. Thus, the \"+\" operator between two Numpy Arrays actually just attempts to add them together, elementwise."
   ]
  },
  {
   "cell_type": "code",
   "execution_count": 5,
   "metadata": {},
   "outputs": [
    {
     "data": {
      "text/plain": [
       "array([5, 7, 9])"
      ]
     },
     "execution_count": 5,
     "metadata": {},
     "output_type": "execute_result"
    }
   ],
   "source": [
    "# Numpy array addition: \n",
    "\n",
    "a,b = np.array([1,2,3]), np.array([4,5,6])\n",
    "a + b"
   ]
  },
  {
   "cell_type": "markdown",
   "metadata": {},
   "source": [
    "instead of concatinating here, it does an element wise addition. \n",
    "to do concatinating here you need to use np.concatenate()"
   ]
  },
  {
   "cell_type": "code",
   "execution_count": null,
   "metadata": {},
   "outputs": [],
   "source": [
    "# Numpy array concatenation: \n",
    "\n",
    "np.concatenate([a,b])"
   ]
  },
  {
   "cell_type": "markdown",
   "metadata": {
    "slideshow": {
     "slide_type": "slide"
    }
   },
   "source": [
    "# Data analysis with Python\n",
    "\n",
    "PANDAS: Panel Data Structures \n",
    "\n",
    "This is the module in Python for doing rectangular-data management, analysis and plotting.\n",
    "\n",
    "The first set of tools are to read and write. "
   ]
  },
  {
   "cell_type": "markdown",
   "metadata": {},
   "source": [
    "**think of pandas as built on top of numpy\n",
    "use pandas if you have rectangular data and your data is pretty small\n",
    "if you have data that is numeric but not necessarily in this format, (and dont need to do with columnn names, column types etc) \n",
    "\n",
    "*numpy will be around forever, but pandas is kind of just a library..\n",
    "*some operations in pandas will just call to the numpy operations\n",
    "\n",
    "data thats not really rectangular, dictionary, from internet, messy..\n",
    "don't try and put it into pandas\n",
    "you dont need to do everything in pandas\n",
    "\n",
    "you can do a lot of data manipulation etc with just python "
   ]
  },
  {
   "cell_type": "markdown",
   "metadata": {
    "slideshow": {
     "slide_type": "slide"
    }
   },
   "source": [
    "## Loading data into Python \n",
    "\n",
    "<img src=\"io_tools.png\"> \n",
    "\n",
    "See [IO DOC](https://pandas.pydata.org/pandas-docs/stable/io.html) in Python for more information\n",
    "\n",
    "Lets load our first dataset (and load all we need to get working!)"
   ]
  },
  {
   "cell_type": "code",
   "execution_count": 6,
   "metadata": {},
   "outputs": [
    {
     "data": {
      "text/html": [
       "<div>\n",
       "<style scoped>\n",
       "    .dataframe tbody tr th:only-of-type {\n",
       "        vertical-align: middle;\n",
       "    }\n",
       "\n",
       "    .dataframe tbody tr th {\n",
       "        vertical-align: top;\n",
       "    }\n",
       "\n",
       "    .dataframe thead th {\n",
       "        text-align: right;\n",
       "    }\n",
       "</style>\n",
       "<table border=\"1\" class=\"dataframe\">\n",
       "  <thead>\n",
       "    <tr style=\"text-align: right;\">\n",
       "      <th></th>\n",
       "      <th>total_bill</th>\n",
       "      <th>tip</th>\n",
       "      <th>sex</th>\n",
       "      <th>smoker</th>\n",
       "      <th>day</th>\n",
       "      <th>time</th>\n",
       "      <th>size</th>\n",
       "    </tr>\n",
       "  </thead>\n",
       "  <tbody>\n",
       "    <tr>\n",
       "      <td>0</td>\n",
       "      <td>16.99</td>\n",
       "      <td>1.01</td>\n",
       "      <td>Female</td>\n",
       "      <td>No</td>\n",
       "      <td>Sun</td>\n",
       "      <td>Dinner</td>\n",
       "      <td>2</td>\n",
       "    </tr>\n",
       "    <tr>\n",
       "      <td>1</td>\n",
       "      <td>10.34</td>\n",
       "      <td>1.66</td>\n",
       "      <td>Male</td>\n",
       "      <td>No</td>\n",
       "      <td>Sun</td>\n",
       "      <td>Dinner</td>\n",
       "      <td>3</td>\n",
       "    </tr>\n",
       "    <tr>\n",
       "      <td>2</td>\n",
       "      <td>21.01</td>\n",
       "      <td>3.50</td>\n",
       "      <td>Male</td>\n",
       "      <td>No</td>\n",
       "      <td>Sun</td>\n",
       "      <td>Dinner</td>\n",
       "      <td>3</td>\n",
       "    </tr>\n",
       "    <tr>\n",
       "      <td>3</td>\n",
       "      <td>23.68</td>\n",
       "      <td>3.31</td>\n",
       "      <td>Male</td>\n",
       "      <td>No</td>\n",
       "      <td>Sun</td>\n",
       "      <td>Dinner</td>\n",
       "      <td>2</td>\n",
       "    </tr>\n",
       "    <tr>\n",
       "      <td>4</td>\n",
       "      <td>24.59</td>\n",
       "      <td>3.61</td>\n",
       "      <td>Female</td>\n",
       "      <td>No</td>\n",
       "      <td>Sun</td>\n",
       "      <td>Dinner</td>\n",
       "      <td>4</td>\n",
       "    </tr>\n",
       "  </tbody>\n",
       "</table>\n",
       "</div>"
      ],
      "text/plain": [
       "   total_bill   tip     sex smoker  day    time  size\n",
       "0       16.99  1.01  Female     No  Sun  Dinner     2\n",
       "1       10.34  1.66    Male     No  Sun  Dinner     3\n",
       "2       21.01  3.50    Male     No  Sun  Dinner     3\n",
       "3       23.68  3.31    Male     No  Sun  Dinner     2\n",
       "4       24.59  3.61  Female     No  Sun  Dinner     4"
      ]
     },
     "execution_count": 6,
     "metadata": {},
     "output_type": "execute_result"
    }
   ],
   "source": [
    "import pandas as pd\n",
    "\n",
    "# load a dataframe from disk\n",
    "tips = pd.read_csv(\"tips.csv\")\n",
    "tips.head(5)"
   ]
  },
  {
   "cell_type": "code",
   "execution_count": 7,
   "metadata": {},
   "outputs": [
    {
     "data": {
      "text/plain": [
       "pandas.core.frame.DataFrame"
      ]
     },
     "execution_count": 7,
     "metadata": {},
     "output_type": "execute_result"
    }
   ],
   "source": [
    "type(tips)\n",
    "#this gives us a class\n",
    "#DataFrame is good naming convention. using camelcase"
   ]
  },
  {
   "cell_type": "code",
   "execution_count": 8,
   "metadata": {},
   "outputs": [
    {
     "data": {
      "text/plain": [
       "pandas.core.series.Series"
      ]
     },
     "execution_count": 8,
     "metadata": {},
     "output_type": "execute_result"
    }
   ],
   "source": [
    "type(tips.tip)\n",
    "#here we are just looking at one column so it's a pandas series"
   ]
  },
  {
   "cell_type": "markdown",
   "metadata": {},
   "source": [
    "**each column is a series (one dimensional)\n",
    "dataframe is two dimensional**\n",
    "\n",
    "sometimes you get confused are you using df or series.. so use type to check which one you're working with"
   ]
  },
  {
   "cell_type": "code",
   "execution_count": null,
   "metadata": {},
   "outputs": [],
   "source": []
  },
  {
   "cell_type": "markdown",
   "metadata": {
    "slideshow": {
     "slide_type": "slide"
    }
   },
   "source": [
    "## Series and DataFrame\n",
    "\n",
    "These are the two basic data formats in PANDAS, the equivalent of column and rectangular data structures, as in linear algebra (vector/matrix) but equipped with several attributes invaluable for data management and analysis\n",
    "\n",
    "In the *tips* example, the variable \"tips\" is a DataFrame, while any individual column would be a Series. \n",
    "\n"
   ]
  },
  {
   "cell_type": "markdown",
   "metadata": {
    "slideshow": {
     "slide_type": "slide"
    }
   },
   "source": [
    "## Series \n",
    "\n",
    "This is a 1-d data structure with *values* accessed via their index. \n",
    "\n",
    "Unlike in raw Python or Numpy, however, Series indices can be made up of either: \n",
    "+ *numbers*: which could be ordered and contiguous like a Python list, but don't have to be! \n",
    "+ *strings*: essentially labels, like the keys in a dictionary\n",
    "\n",
    "Although typically a series is obtained by reading a dataset from an external file or when doing operations on dataframes, we can still define one manually by specifying the values and the indices. \n",
    "\n",
    "Let's do this an get an insight into how it works"
   ]
  },
  {
   "cell_type": "code",
   "execution_count": 13,
   "metadata": {},
   "outputs": [],
   "source": [
    "# here no indices are specified, there are defaults\n",
    "my_series = pd.Series([1, 15, -5, None, 4, 123, 0, 78, 0, 5, -4])"
   ]
  },
  {
   "cell_type": "markdown",
   "metadata": {},
   "source": [
    "**above we didnt specify an index. and if we look at the first index, it's 1. \n",
    "it has automatic indexing"
   ]
  },
  {
   "cell_type": "code",
   "execution_count": 15,
   "metadata": {},
   "outputs": [
    {
     "data": {
      "text/plain": [
       "1.0"
      ]
     },
     "execution_count": 15,
     "metadata": {},
     "output_type": "execute_result"
    }
   ],
   "source": [
    "\n",
    "# Accessing a certain value via the index\n",
    "\n",
    "my_series[0]"
   ]
  },
  {
   "cell_type": "code",
   "execution_count": 16,
   "metadata": {},
   "outputs": [
    {
     "data": {
      "text/plain": [
       "array([  1.,  15.,  -5.,  nan,   4., 123.,   0.,  78.,   0.,   5.,  -4.])"
      ]
     },
     "execution_count": 16,
     "metadata": {},
     "output_type": "execute_result"
    }
   ],
   "source": [
    "# Note that there are a bunch of attributes.\n",
    "# .values returns a numpy ndarray of the values! \n",
    "\n",
    "my_series.values"
   ]
  },
  {
   "cell_type": "code",
   "execution_count": 17,
   "metadata": {},
   "outputs": [
    {
     "data": {
      "text/plain": [
       "RangeIndex(start=0, stop=11, step=1)"
      ]
     },
     "execution_count": 17,
     "metadata": {},
     "output_type": "execute_result"
    }
   ],
   "source": [
    "# Take a look at the index. What type is it? \n",
    "# You convert itto a numpy ndarray by adding \".values\" again!\n",
    "\n",
    "my_series.index"
   ]
  },
  {
   "cell_type": "code",
   "execution_count": null,
   "metadata": {},
   "outputs": [],
   "source": []
  },
  {
   "cell_type": "code",
   "execution_count": 20,
   "metadata": {},
   "outputs": [
    {
     "data": {
      "text/plain": [
       "om        1.0\n",
       "ir       15.0\n",
       "os       -5.0\n",
       "pap       NaN\n",
       "pas       4.0\n",
       "pil     123.0\n",
       "io        0.0\n",
       "po       78.0\n",
       "ulos      0.0\n",
       "is        5.0\n",
       "best     -4.0\n",
       "dtype: float64"
      ]
     },
     "execution_count": 20,
     "metadata": {},
     "output_type": "execute_result"
    }
   ],
   "source": [
    "# You can overwrite the index directly: \n",
    "\n",
    "my_series.index = [\"om\",\"ir\",\"os\",\"pap\",\"pas\",\"pil\",\"io\",\"po\",\"ulos\",\"is\",\"best\"]\n",
    "\n",
    "my_series"
   ]
  },
  {
   "cell_type": "markdown",
   "metadata": {},
   "source": [
    "## iloc\n",
    "\n",
    "Accessing values via the index can be very useful, but sometimes you want to access the values as though they were a Python list. In other words \"I want the first value!\", without having to know the name of the label. \n",
    "\n",
    "This can be achieved with .iloc: \n",
    "\n",
    "```python\n",
    "my_series.iloc[0]\n",
    "```"
   ]
  },
  {
   "cell_type": "code",
   "execution_count": 21,
   "metadata": {},
   "outputs": [
    {
     "data": {
      "text/plain": [
       "(1.0, 1.0)"
      ]
     },
     "execution_count": 21,
     "metadata": {},
     "output_type": "execute_result"
    }
   ],
   "source": [
    "# Series that have string indices can also be accessed via a RangeIndex\n",
    "# (which is similar to the index of a regular Python list)\n",
    "\n",
    "my_series.iloc[0], my_series[\"om\"]"
   ]
  },
  {
   "cell_type": "code",
   "execution_count": 22,
   "metadata": {},
   "outputs": [
    {
     "data": {
      "text/plain": [
       "(1.0, -5.0)"
      ]
     },
     "execution_count": 22,
     "metadata": {},
     "output_type": "execute_result"
    }
   ],
   "source": [
    "# Note that indices can get moved around, by sorting for example!\n",
    "# iloc gives you the element you would get if the Series\n",
    "# was a list and you were giving it the index:\n",
    "\n",
    "# This just resets the index to be as we found it originally\n",
    "my_series = my_series.reset_index(drop=True)\n",
    "\n",
    "x = my_series.sort_values()\n",
    "#this has sorted it numerically. so we can see the indices are not in order\n",
    "\n",
    "x[0], x.iloc[0]\n",
    "#i've sorted it, now just give me the first one\n",
    "#iloc gives you the order it is in, after it's been sorted and moved around\n",
    "#square index just tells you, what is at this index?"
   ]
  },
  {
   "cell_type": "markdown",
   "metadata": {
    "slideshow": {
     "slide_type": "slide"
    }
   },
   "source": [
    "## Operations with series\n",
    "\n",
    "Because Series are Numpy arrays behind the scenes, we can compute element-wise functions on one series or several series at the same time. The result is another series with data type depending on the type of operations performed. \n",
    "\n",
    "For example, what do you think the following piece of code will do: "
   ]
  },
  {
   "cell_type": "code",
   "execution_count": 23,
   "metadata": {
    "slideshow": {
     "slide_type": "slide"
    }
   },
   "outputs": [
    {
     "data": {
      "text/plain": [
       "0     True\n",
       "1    False\n",
       "2     True\n",
       "3     True\n",
       "dtype: bool"
      ]
     },
     "execution_count": 23,
     "metadata": {},
     "output_type": "execute_result"
    }
   ],
   "source": [
    "Series1 = pd.Series([1,3,5,7])\n",
    "Series2 = pd.Series([0,10,-1,6])\n",
    "\n",
    "Series3 = 2*Series1 + abs(Series2)\n",
    "\n",
    "Series4 = Series1 > Series2 \n",
    "Series4\n",
    "# Take a look at the different Series objects!"
   ]
  },
  {
   "cell_type": "markdown",
   "metadata": {
    "slideshow": {
     "slide_type": "slide"
    }
   },
   "source": [
    "## Data alignment \n",
    "\n",
    "What goes on in the previous examples is more subtle than it looks. How does Python know which elements from each series to join in the required operation together?  \n",
    "\n",
    "What happens is that the indices happened to be the same. So when we ask something like \n",
    "\n",
    "```python\n",
    "Series3 = Series1 + Series2 \n",
    "```\n",
    "\n",
    "Python looks for entries in each series with the same index and then does an elementwise summation that it stores in a like-wise index in Series 3. \n",
    "\n",
    "Consider instead the following example "
   ]
  },
  {
   "cell_type": "code",
   "execution_count": 24,
   "metadata": {
    "slideshow": {
     "slide_type": "slide"
    }
   },
   "outputs": [
    {
     "data": {
      "text/plain": [
       "as     NaN\n",
       "iros   NaN\n",
       "om     NaN\n",
       "pap    NaN\n",
       "dtype: float64"
      ]
     },
     "execution_count": 24,
     "metadata": {},
     "output_type": "execute_result"
    }
   ],
   "source": [
    "Series1 = pd.Series([1,10],index=[\"om\",\"iros\"])\n",
    "Series2 = pd.Series([4,-1],index=[\"pap\",\"as\"])\n",
    "Series3 = Series1 + Series2\n",
    "\n",
    "Series3\n",
    "#this is a key error\n",
    "#none of the indexes match\n",
    "#so when we try to add, it will make it Nan"
   ]
  },
  {
   "cell_type": "code",
   "execution_count": 26,
   "metadata": {},
   "outputs": [
    {
     "data": {
      "text/plain": [
       "numpy.float64"
      ]
     },
     "execution_count": 26,
     "metadata": {},
     "output_type": "execute_result"
    }
   ],
   "source": [
    "# numpy has a Nan type. It's a float\n",
    "type(Series3.iloc[0])"
   ]
  },
  {
   "cell_type": "code",
   "execution_count": 27,
   "metadata": {},
   "outputs": [
    {
     "data": {
      "text/plain": [
       "True"
      ]
     },
     "execution_count": 27,
     "metadata": {},
     "output_type": "execute_result"
    }
   ],
   "source": [
    "#here we check if we have a missing value\n",
    "np.isnan(Series3.iloc[0])"
   ]
  },
  {
   "cell_type": "markdown",
   "metadata": {
    "slideshow": {
     "slide_type": "slide"
    }
   },
   "source": [
    "This aspect makes it very easy to work with series that we have sorted or manipulated otherwise; there is always the address to access a value. This helps prevent accidentally combining values we didn't mean to combine!"
   ]
  },
  {
   "cell_type": "markdown",
   "metadata": {
    "slideshow": {
     "slide_type": "slide"
    }
   },
   "source": [
    "## Basic information retrieval with series\n",
    "\n",
    "+ Accessing single elements\n",
    "+ Slicing; accessing a set of elements\n",
    "+ Filtering; selection by  boolean index\n",
    "\n",
    "Recalling that operations on Series returns Series, the big news here is that we can access values in a Series by specifying \n",
    "\n",
    "+ single index\n",
    "+ a slice (a:b for integers a,b) \n",
    "+ list (or Numpy Array or Series) of index labels\n",
    "+ a boolean Series (also called a _boolean mask_) \n",
    "\n",
    "Interesting: the result of any such retrieval (except for a single index) is a series itself!"
   ]
  },
  {
   "cell_type": "code",
   "execution_count": 29,
   "metadata": {},
   "outputs": [
    {
     "data": {
      "text/plain": [
       "om     1.0\n",
       "pap    NaN\n",
       "dtype: float64"
      ]
     },
     "execution_count": 29,
     "metadata": {},
     "output_type": "execute_result"
    }
   ],
   "source": [
    "# accesing by list of index labels\n",
    "\n",
    "my_series.index = [\"om\",\"ir\",\"os\",\"pap\",\"pas\",\"pil\",\"io\",\"po\",\"ulos\",\"is\",\"best\"]\n",
    "x = my_series[[\"om\",\"pap\"]]\n",
    "x"
   ]
  },
  {
   "cell_type": "code",
   "execution_count": 30,
   "metadata": {},
   "outputs": [
    {
     "data": {
      "text/plain": [
       "om      False\n",
       "ir      False\n",
       "os      False\n",
       "pap     False\n",
       "pas     False\n",
       "pil     False\n",
       "io       True\n",
       "po      False\n",
       "ulos     True\n",
       "is      False\n",
       "best    False\n",
       "dtype: bool"
      ]
     },
     "execution_count": 30,
     "metadata": {},
     "output_type": "execute_result"
    }
   ],
   "source": [
    "# getting a boolean-valued series by checking a condition\n",
    "\n",
    "choose = my_series == 0.0\n",
    "choose\n",
    "\n"
   ]
  },
  {
   "cell_type": "markdown",
   "metadata": {},
   "source": [
    "**then we can use this boolean, to select some of the elements. this is basically a filter operation (to get just the zeros)\n",
    "\n",
    "this is how we filter in pandas\n",
    "this is the only way to filter in pandas\n"
   ]
  },
  {
   "cell_type": "code",
   "execution_count": 32,
   "metadata": {},
   "outputs": [
    {
     "data": {
      "text/plain": [
       "io      0.0\n",
       "ulos    0.0\n",
       "dtype: float64"
      ]
     },
     "execution_count": 32,
     "metadata": {},
     "output_type": "execute_result"
    }
   ],
   "source": [
    "\n",
    "\n",
    "# Notice the index of x is a SUBSET of the index of \"my_series\"\n",
    "# This can be useful when needing to relate values back to the original \"my_series\"!\n",
    "\n",
    "x = my_series[choose]\n",
    "x"
   ]
  },
  {
   "cell_type": "markdown",
   "metadata": {},
   "source": [
    "## Filtering via boolean masks\n",
    "\n",
    "We often use boolean masks to filter data in Pandas. Series that are of type \"bool\" thus take on special significance: we use them a lot!\n",
    "\n",
    "We also get special boolean algebra operators to use in Numpy/Pandas, distinct from the and/or/not you will use in regular Python: \n",
    "\n",
    "\n",
    "```python\n",
    "& # AND\n",
    "| # OR\n",
    "~ # NOT\n",
    "```"
   ]
  },
  {
   "cell_type": "markdown",
   "metadata": {},
   "source": [
    "**we also have boolean algebra on these boolean masks"
   ]
  },
  {
   "cell_type": "code",
   "execution_count": 33,
   "metadata": {},
   "outputs": [
    {
     "data": {
      "text/plain": [
       "om       True\n",
       "ir       True\n",
       "os       True\n",
       "pap      True\n",
       "pas      True\n",
       "pil      True\n",
       "io      False\n",
       "po       True\n",
       "ulos    False\n",
       "is       True\n",
       "best     True\n",
       "dtype: bool"
      ]
     },
     "execution_count": 33,
     "metadata": {},
     "output_type": "execute_result"
    }
   ],
   "source": [
    "-choose"
   ]
  },
  {
   "cell_type": "code",
   "execution_count": 35,
   "metadata": {},
   "outputs": [
    {
     "data": {
      "text/plain": [
       "om      False\n",
       "ir      False\n",
       "os      False\n",
       "pap     False\n",
       "pas     False\n",
       "pil     False\n",
       "io       True\n",
       "po      False\n",
       "ulos     True\n",
       "is      False\n",
       "best    False\n",
       "dtype: bool"
      ]
     },
     "execution_count": 35,
     "metadata": {},
     "output_type": "execute_result"
    }
   ],
   "source": [
    "choose &choose"
   ]
  },
  {
   "cell_type": "code",
   "execution_count": 40,
   "metadata": {},
   "outputs": [
    {
     "data": {
      "text/plain": [
       "om        1.0\n",
       "ir       15.0\n",
       "os       -5.0\n",
       "pap       NaN\n",
       "pas       4.0\n",
       "pil     123.0\n",
       "po       78.0\n",
       "is        5.0\n",
       "best     -4.0\n",
       "dtype: float64"
      ]
     },
     "execution_count": 40,
     "metadata": {},
     "output_type": "execute_result"
    }
   ],
   "source": [
    "# Challenge: \n",
    "\n",
    "# Filter \"my_series\" to be all the elements that are NOT\n",
    "# equal to 0, using the \"choose\" boolean mask below: \n",
    "\n",
    "choose = my_series == 0.0\n",
    "my_series[-choose]"
   ]
  },
  {
   "cell_type": "code",
   "execution_count": 51,
   "metadata": {},
   "outputs": [
    {
     "data": {
      "text/plain": [
       "om        1.0\n",
       "ir       15.0\n",
       "os       -5.0\n",
       "pas       4.0\n",
       "pil     123.0\n",
       "io        0.0\n",
       "po       78.0\n",
       "ulos      0.0\n",
       "is        5.0\n",
       "best     -4.0\n",
       "dtype: float64"
      ]
     },
     "execution_count": 51,
     "metadata": {},
     "output_type": "execute_result"
    }
   ],
   "source": [
    "#example\n",
    "my_series[(my_series <10) | (my_series>0)]"
   ]
  },
  {
   "cell_type": "markdown",
   "metadata": {},
   "source": [
    "## look up these..."
   ]
  },
  {
   "cell_type": "code",
   "execution_count": 41,
   "metadata": {},
   "outputs": [
    {
     "data": {
      "text/plain": [
       "True"
      ]
     },
     "execution_count": 41,
     "metadata": {},
     "output_type": "execute_result"
    }
   ],
   "source": [
    "True or False"
   ]
  },
  {
   "cell_type": "code",
   "execution_count": 159,
   "metadata": {},
   "outputs": [
    {
     "data": {
      "text/plain": [
       "True"
      ]
     },
     "execution_count": 159,
     "metadata": {},
     "output_type": "execute_result"
    }
   ],
   "source": [
    "False or True"
   ]
  },
  {
   "cell_type": "code",
   "execution_count": 42,
   "metadata": {
    "scrolled": true
   },
   "outputs": [
    {
     "data": {
      "text/plain": [
       "False"
      ]
     },
     "execution_count": 42,
     "metadata": {},
     "output_type": "execute_result"
    }
   ],
   "source": [
    "False or False"
   ]
  },
  {
   "cell_type": "code",
   "execution_count": 43,
   "metadata": {},
   "outputs": [
    {
     "data": {
      "text/plain": [
       "False"
      ]
     },
     "execution_count": 43,
     "metadata": {},
     "output_type": "execute_result"
    }
   ],
   "source": [
    "True and False"
   ]
  },
  {
   "cell_type": "code",
   "execution_count": 44,
   "metadata": {},
   "outputs": [
    {
     "data": {
      "text/plain": [
       "False"
      ]
     },
     "execution_count": 44,
     "metadata": {},
     "output_type": "execute_result"
    }
   ],
   "source": [
    "False and True"
   ]
  },
  {
   "cell_type": "code",
   "execution_count": 45,
   "metadata": {},
   "outputs": [
    {
     "data": {
      "text/plain": [
       "True"
      ]
     },
     "execution_count": 45,
     "metadata": {},
     "output_type": "execute_result"
    }
   ],
   "source": [
    "True or True"
   ]
  },
  {
   "cell_type": "markdown",
   "metadata": {
    "slideshow": {
     "slide_type": "slide"
    }
   },
   "source": [
    "## Coding and managing missing values\n",
    "\n",
    "A series object in PANDAS can deal with maybe the most important type of data of all for data analysis: missing data! \n",
    "\n",
    "We already see very naturally how data management leads to missing data rather immediately. Recall the earlier attempt to sum up to Series\n",
    "\n",
    "```python\n",
    "Series3 = Series1+Series2\n",
    "print(Series3)\n",
    "as     NaN\n",
    "iros   NaN\n",
    "om     NaN\n",
    "pap    NaN\n",
    "dtype: float64\n",
    "```\n",
    "What happened there is that in the operation labels could not be matched, so pandas tried to sum a numeric value with a missing value, the result of which is a missing value!"
   ]
  },
  {
   "cell_type": "markdown",
   "metadata": {
    "slideshow": {
     "slide_type": "slide"
    }
   },
   "source": [
    "The way to manually specify in PANDAS that a value is missing is to use use None, as below: \n",
    "\n",
    "```python\n",
    "temp = pd.Series([1,None,2])\n",
    "print(temp)\n",
    "0    1.0\n",
    "1    NaN\n",
    "2    2.0\n",
    "dtype: float64\n",
    "```\n",
    "If the Series is numeric, Pandas will caste it to numpy.float64 type and convert the None values to Numpy NaN values (Not a Number). If the Series is of type \"object\" (arbitrary Python objects), it will keep the values as None.\n",
    "\n",
    "We can create *boolean masks* on the basis of such values. The way to identify NaN or None values in a Series is to use either of the equivalent two attributes\n",
    "\n",
    "```python\n",
    "seriesname.isna()\n",
    "seriesname.isnull()\n",
    "```\n",
    "\n",
    "Either returns a boolean-valued series that we can use then for selecting and operating on NaN or the rest of the values. The opposite also exists: \n",
    "\n",
    "```python\n",
    "seriesname.notna()\n",
    "seriesname.notnull()\n",
    "```\n"
   ]
  },
  {
   "cell_type": "code",
   "execution_count": 64,
   "metadata": {},
   "outputs": [
    {
     "data": {
      "text/plain": [
       "0     foo\n",
       "1     bar\n",
       "2    None\n",
       "3     baz\n",
       "4     qux\n",
       "5    None\n",
       "dtype: object"
      ]
     },
     "execution_count": 64,
     "metadata": {},
     "output_type": "execute_result"
    }
   ],
   "source": [
    "# Challenge: \n",
    "# Get a list of names, without the Null values!\n",
    "\n",
    "# The Pandas way: \n",
    "# 1. Create a boolean mask by using the .notna() method.\n",
    "# 2. Use the mask to subset the Series.\n",
    "\n",
    "names = pd.Series(['foo','bar',None,'baz','qux',None])\n",
    "\n",
    "names[names != None]\n",
    "#this doesnt work because pandas turns all Nones into Nans"
   ]
  },
  {
   "cell_type": "code",
   "execution_count": 62,
   "metadata": {},
   "outputs": [
    {
     "data": {
      "text/plain": [
       "0    foo\n",
       "1    bar\n",
       "3    baz\n",
       "4    qux\n",
       "dtype: object"
      ]
     },
     "execution_count": 62,
     "metadata": {},
     "output_type": "execute_result"
    }
   ],
   "source": [
    "names[names.notnull()]"
   ]
  },
  {
   "cell_type": "markdown",
   "metadata": {
    "slideshow": {
     "slide_type": "slide"
    }
   },
   "source": [
    "## Highlighting some important series attributes & methods\n",
    "\n",
    "As usual one should explore the attributes of any python object one ends up working with. We have already accessed the seriesname.index and seriesname.value\n",
    "\n",
    "Some other (among many!) that are worth highlighting: \n",
    "\n",
    "+ .map\n",
    "+ .corr \n",
    "+ .describe\n",
    "+ .hist\n",
    "+ .plot\n",
    "+ .size\n",
    "+ .value_counts\n",
    "+ .sort_values"
   ]
  },
  {
   "cell_type": "code",
   "execution_count": null,
   "metadata": {},
   "outputs": [],
   "source": [
    "# Challenge: \n",
    "\n",
    "# Use the \"map\" method to create a new series with each element\n",
    "# lowercased. Create your own function to do the operation. \n",
    "# Missing values should stay missing!\n",
    "\n",
    "\n",
    "def lower(s):\n",
    "    # Your code here\n",
    "    # HINT: delete the \"pass\" when your done\n",
    "    # HINT2: handle None values!\n",
    "    pass\n",
    "\n",
    "\n",
    "names = pd.Series(['Foo', 'BAR', None, 'foo', None, 'bar', 'bAR', 'foo', None])"
   ]
  },
  {
   "cell_type": "code",
   "execution_count": 92,
   "metadata": {},
   "outputs": [
    {
     "ename": "IndentationError",
     "evalue": "unexpected unindent (<ipython-input-92-530538af7a79>, line 5)",
     "output_type": "error",
     "traceback": [
      "\u001b[0;36m  File \u001b[0;32m\"<ipython-input-92-530538af7a79>\"\u001b[0;36m, line \u001b[0;32m5\u001b[0m\n\u001b[0;31m    names = pd.Series(['Foo', 'BAR', None, 'foo', None, 'bar', 'bAR', 'foo', None])\u001b[0m\n\u001b[0m                                                                                   ^\u001b[0m\n\u001b[0;31mIndentationError\u001b[0m\u001b[0;31m:\u001b[0m unexpected unindent\n"
     ]
    }
   ],
   "source": [
    "#my attempt\n",
    "def lower(s):\n",
    "    try:\n",
    "        return s.lower()\n",
    "\n",
    "names = pd.Series(['Foo', 'BAR', None, 'foo', None, 'bar', 'bAR', 'foo', None])\n",
    "names.map(lower)\n"
   ]
  },
  {
   "cell_type": "code",
   "execution_count": 98,
   "metadata": {},
   "outputs": [
    {
     "data": {
      "text/plain": [
       "0     foo\n",
       "1     bar\n",
       "2    None\n",
       "3     foo\n",
       "4    None\n",
       "5     bar\n",
       "6     bar\n",
       "7     foo\n",
       "8    None\n",
       "dtype: object"
      ]
     },
     "execution_count": 98,
     "metadata": {},
     "output_type": "execute_result"
    }
   ],
   "source": [
    "#solution\n",
    "def lower(s):\n",
    "    try:\n",
    "        return s.lower()\n",
    "    except AttributeError:\n",
    "            return None\n",
    "names = pd.Series(['Foo', 'BAR', None, 'foo', None, 'bar', 'bAR', 'foo', None])\n",
    "\n",
    "names.map(lower)\n"
   ]
  },
  {
   "cell_type": "code",
   "execution_count": 102,
   "metadata": {},
   "outputs": [
    {
     "data": {
      "text/plain": [
       "foo    3\n",
       "bar    3\n",
       "dtype: int64"
      ]
     },
     "execution_count": 102,
     "metadata": {},
     "output_type": "execute_result"
    }
   ],
   "source": [
    "# Challenge: \n",
    "\n",
    "# Using the series from above, now lowercased, count the occurences of each name\n",
    "# Hint: It's simple, just use .value_counts()!\n",
    "#value_counts is a method for a series. this is why it works on a series\n",
    "\n",
    "names.map(lower).value_counts()"
   ]
  },
  {
   "cell_type": "code",
   "execution_count": 103,
   "metadata": {},
   "outputs": [
    {
     "data": {
      "text/plain": [
       "3"
      ]
     },
     "execution_count": 103,
     "metadata": {},
     "output_type": "execute_result"
    }
   ],
   "source": [
    "#now counting the total number of nans\n",
    "names.map(lower).isna().sum()"
   ]
  },
  {
   "cell_type": "code",
   "execution_count": 104,
   "metadata": {},
   "outputs": [
    {
     "data": {
      "text/plain": [
       "0.3333333333333333"
      ]
     },
     "execution_count": 104,
     "metadata": {},
     "output_type": "execute_result"
    }
   ],
   "source": [
    "#or do it pandas way\n",
    "#instead of using length\n",
    "#we use shape\n",
    "\n",
    "#in general, any time you want the length you use shape[0]\n",
    "names.map(lower).isna().sum()/names.shape[0]"
   ]
  },
  {
   "cell_type": "markdown",
   "metadata": {
    "slideshow": {
     "slide_type": "slide"
    }
   },
   "source": [
    "## Dataframes\n",
    "\n",
    "This is PANDAS model for rectangular data, operationally is like a dictionary of series; each column of the dataframe is a series object, and clearly comes with all the attributes/methods of a series\n",
    "\n",
    "An implication of the above is that within each column the data type is common; across columns of course this can change\n",
    "\n",
    "Let's see an example right away "
   ]
  },
  {
   "cell_type": "code",
   "execution_count": 4,
   "metadata": {},
   "outputs": [
    {
     "ename": "NameError",
     "evalue": "name 'pd' is not defined",
     "output_type": "error",
     "traceback": [
      "\u001b[0;31m---------------------------------------------------------------------------\u001b[0m",
      "\u001b[0;31mNameError\u001b[0m                                 Traceback (most recent call last)",
      "\u001b[0;32m<ipython-input-4-3e317f6532ad>\u001b[0m in \u001b[0;36m<module>\u001b[0;34m\u001b[0m\n\u001b[0;32m----> 1\u001b[0;31m \u001b[0mtips\u001b[0m \u001b[0;34m=\u001b[0m \u001b[0mpd\u001b[0m\u001b[0;34m.\u001b[0m\u001b[0mread_csv\u001b[0m\u001b[0;34m(\u001b[0m\u001b[0;34m\"tips.csv\"\u001b[0m\u001b[0;34m)\u001b[0m\u001b[0;34m\u001b[0m\u001b[0;34m\u001b[0m\u001b[0m\n\u001b[0m\u001b[1;32m      2\u001b[0m \u001b[0mtips\u001b[0m\u001b[0;34m.\u001b[0m\u001b[0mhead\u001b[0m\u001b[0;34m(\u001b[0m\u001b[0;36m10\u001b[0m\u001b[0;34m)\u001b[0m \u001b[0;31m# the first method of our dataframe object!\u001b[0m\u001b[0;34m\u001b[0m\u001b[0;34m\u001b[0m\u001b[0m\n",
      "\u001b[0;31mNameError\u001b[0m: name 'pd' is not defined"
     ]
    }
   ],
   "source": [
    "tips = pd.read_csv(\"tips.csv\")\n",
    "tips.head(10) # the first method of our dataframe object! "
   ]
  },
  {
   "cell_type": "code",
   "execution_count": 106,
   "metadata": {},
   "outputs": [
    {
     "data": {
      "text/plain": [
       "RangeIndex(start=0, stop=244, step=1)"
      ]
     },
     "execution_count": 106,
     "metadata": {},
     "output_type": "execute_result"
    }
   ],
   "source": [
    "# the other important attribute: name of rows and columns\n",
    "tips.index"
   ]
  },
  {
   "cell_type": "code",
   "execution_count": 107,
   "metadata": {},
   "outputs": [
    {
     "data": {
      "text/plain": [
       "Index(['total_bill', 'tip', 'sex', 'smoker', 'day', 'time', 'size'], dtype='object')"
      ]
     },
     "execution_count": 107,
     "metadata": {},
     "output_type": "execute_result"
    }
   ],
   "source": [
    "#now the df has two indexes. \n",
    "#the first one is still on the left, the second one is on the top, and its called columns\n",
    "tips.columns"
   ]
  },
  {
   "cell_type": "markdown",
   "metadata": {},
   "source": [
    "it can make, any column the df has, as an attribute\n",
    "size is also an attribute of my series. \n",
    "\n"
   ]
  },
  {
   "cell_type": "code",
   "execution_count": 113,
   "metadata": {},
   "outputs": [
    {
     "name": "stdout",
     "output_type": "stream",
     "text": [
      "1708\n",
      "(244, 7)\n",
      "1708\n"
     ]
    }
   ],
   "source": [
    "print(tips.size)\n",
    "print(tips.shape)\n",
    "print(244*7)"
   ]
  },
  {
   "cell_type": "code",
   "execution_count": null,
   "metadata": {},
   "outputs": [],
   "source": []
  },
  {
   "cell_type": "markdown",
   "metadata": {
    "slideshow": {
     "slide_type": "slide"
    }
   },
   "source": [
    "## Accessing the series embedded within\n",
    "\n",
    "There are two way to access the information in the columns: \n",
    "+ One is to give the name of the column as `dataframename.columnname` \n",
    "   + This is not feasible when the name of the column coincides with an attribute or method of the dataframe, e.g. when a column is called \"size\"  \n",
    "+ Another is as dataframename[\"columnname\"]\n",
    "\n",
    "Any of these calls returns a series object with the same index as the dataframe and the values of the column\n",
    "\n",
    "We can then work with the extracted series as usual. Hence you can understand what happens below \n",
    "\n",
    "```python\n",
    "tips[\"size\"].corr(tips.tip)\n",
    "```"
   ]
  },
  {
   "cell_type": "markdown",
   "metadata": {
    "slideshow": {
     "slide_type": "slide"
    }
   },
   "source": [
    "In a similar fashion, we can access various columns at a time; we need to provide a list of column names in this case; the result is now a dataframe with the same index as the original and columns the chosen subset. We can then work with it using any of the dataframe attributes and methods we know. \n",
    "\n",
    "You can now guess what will happen below: \n",
    "\n",
    "```python\n",
    "tips[[\"tip\",\"size\",\"sex\"]].tip.corr(tips[\"size\"])\n",
    "\n",
    "```\n",
    "(not saying that this is a sensible code! just trying to make sure we understand the structure)"
   ]
  },
  {
   "cell_type": "code",
   "execution_count": 115,
   "metadata": {},
   "outputs": [
    {
     "data": {
      "text/html": [
       "<div>\n",
       "<style scoped>\n",
       "    .dataframe tbody tr th:only-of-type {\n",
       "        vertical-align: middle;\n",
       "    }\n",
       "\n",
       "    .dataframe tbody tr th {\n",
       "        vertical-align: top;\n",
       "    }\n",
       "\n",
       "    .dataframe thead th {\n",
       "        text-align: right;\n",
       "    }\n",
       "</style>\n",
       "<table border=\"1\" class=\"dataframe\">\n",
       "  <thead>\n",
       "    <tr style=\"text-align: right;\">\n",
       "      <th></th>\n",
       "      <th>tip</th>\n",
       "      <th>size</th>\n",
       "      <th>sex</th>\n",
       "    </tr>\n",
       "  </thead>\n",
       "  <tbody>\n",
       "    <tr>\n",
       "      <td>0</td>\n",
       "      <td>1.01</td>\n",
       "      <td>2</td>\n",
       "      <td>Female</td>\n",
       "    </tr>\n",
       "    <tr>\n",
       "      <td>1</td>\n",
       "      <td>1.66</td>\n",
       "      <td>3</td>\n",
       "      <td>Male</td>\n",
       "    </tr>\n",
       "    <tr>\n",
       "      <td>2</td>\n",
       "      <td>3.50</td>\n",
       "      <td>3</td>\n",
       "      <td>Male</td>\n",
       "    </tr>\n",
       "    <tr>\n",
       "      <td>3</td>\n",
       "      <td>3.31</td>\n",
       "      <td>2</td>\n",
       "      <td>Male</td>\n",
       "    </tr>\n",
       "    <tr>\n",
       "      <td>4</td>\n",
       "      <td>3.61</td>\n",
       "      <td>4</td>\n",
       "      <td>Female</td>\n",
       "    </tr>\n",
       "    <tr>\n",
       "      <td>...</td>\n",
       "      <td>...</td>\n",
       "      <td>...</td>\n",
       "      <td>...</td>\n",
       "    </tr>\n",
       "    <tr>\n",
       "      <td>239</td>\n",
       "      <td>5.92</td>\n",
       "      <td>3</td>\n",
       "      <td>Male</td>\n",
       "    </tr>\n",
       "    <tr>\n",
       "      <td>240</td>\n",
       "      <td>2.00</td>\n",
       "      <td>2</td>\n",
       "      <td>Female</td>\n",
       "    </tr>\n",
       "    <tr>\n",
       "      <td>241</td>\n",
       "      <td>2.00</td>\n",
       "      <td>2</td>\n",
       "      <td>Male</td>\n",
       "    </tr>\n",
       "    <tr>\n",
       "      <td>242</td>\n",
       "      <td>1.75</td>\n",
       "      <td>2</td>\n",
       "      <td>Male</td>\n",
       "    </tr>\n",
       "    <tr>\n",
       "      <td>243</td>\n",
       "      <td>3.00</td>\n",
       "      <td>2</td>\n",
       "      <td>Female</td>\n",
       "    </tr>\n",
       "  </tbody>\n",
       "</table>\n",
       "<p>244 rows × 3 columns</p>\n",
       "</div>"
      ],
      "text/plain": [
       "      tip  size     sex\n",
       "0    1.01     2  Female\n",
       "1    1.66     3    Male\n",
       "2    3.50     3    Male\n",
       "3    3.31     2    Male\n",
       "4    3.61     4  Female\n",
       "..    ...   ...     ...\n",
       "239  5.92     3    Male\n",
       "240  2.00     2  Female\n",
       "241  2.00     2    Male\n",
       "242  1.75     2    Male\n",
       "243  3.00     2  Female\n",
       "\n",
       "[244 rows x 3 columns]"
      ]
     },
     "execution_count": 115,
     "metadata": {},
     "output_type": "execute_result"
    }
   ],
   "source": [
    "#filtering original df, this gives us a view into it, with only these 3 columns\n",
    "#to then save it and use it, you would need to add .copy() at the end\n",
    "tips[[\"tip\",\"size\",\"sex\"]]"
   ]
  },
  {
   "cell_type": "markdown",
   "metadata": {
    "slideshow": {
     "slide_type": "slide"
    }
   },
   "source": [
    "## Accessing subsets of rows\n",
    "\n",
    "Now we are interested in a subset of rows. We can access rows by:\n",
    "+ list of index labels \n",
    "  ```python\n",
    "  dataframename.loc[ [index1, index2, ...] ]\n",
    "  ```\n",
    "+ list of integer index location (i-loc) \n",
    "  ```python\n",
    "  dataframename.iloc[ [integer1, integer2, ...] ]\n",
    "  ```\n",
    "The output is:\n",
    "+ a series, if a single column or row is chosen\n",
    "+ a dataframe, with index label the chosen index labels and the same column names as the dataframe\n",
    "\n",
    "In the case of .iloc we can also use slices, as for example\n",
    "```python\n",
    "dataframename.iloc[3:5]\n",
    "dataframename.iloc[3:5,:]\n",
    "dataframename.iloc[3:5,-2:]\n",
    "```\n",
    "\n",
    "Note: loc/iloc are also used to access a subset of rows AND columns at the same time. See examples below!"
   ]
  },
  {
   "cell_type": "markdown",
   "metadata": {},
   "source": [
    "\n",
    "    -to get named index, use loc\n",
    " \n",
    "    -to get number index, use iloc"
   ]
  },
  {
   "cell_type": "code",
   "execution_count": null,
   "metadata": {},
   "outputs": [],
   "source": [
    "# Accessing rows AND columns!\n",
    "# Example of 2-dimension loc\n",
    "\n",
    "tips.loc[[1,3], ['sex', 'smoker']]"
   ]
  },
  {
   "cell_type": "code",
   "execution_count": null,
   "metadata": {},
   "outputs": [],
   "source": [
    "# Accessing rows AND columns!\n",
    "# Example of 2-dimensional iloc\n",
    "\n",
    "tips.iloc[[1,3], 2:]"
   ]
  },
  {
   "cell_type": "code",
   "execution_count": 133,
   "metadata": {},
   "outputs": [
    {
     "data": {
      "text/html": [
       "<div>\n",
       "<style scoped>\n",
       "    .dataframe tbody tr th:only-of-type {\n",
       "        vertical-align: middle;\n",
       "    }\n",
       "\n",
       "    .dataframe tbody tr th {\n",
       "        vertical-align: top;\n",
       "    }\n",
       "\n",
       "    .dataframe thead th {\n",
       "        text-align: right;\n",
       "    }\n",
       "</style>\n",
       "<table border=\"1\" class=\"dataframe\">\n",
       "  <thead>\n",
       "    <tr style=\"text-align: right;\">\n",
       "      <th></th>\n",
       "      <th>tip</th>\n",
       "      <th>sex</th>\n",
       "      <th>day</th>\n",
       "    </tr>\n",
       "  </thead>\n",
       "  <tbody>\n",
       "    <tr>\n",
       "      <td>20</td>\n",
       "      <td>4.08</td>\n",
       "      <td>Male</td>\n",
       "      <td>Sat</td>\n",
       "    </tr>\n",
       "    <tr>\n",
       "      <td>21</td>\n",
       "      <td>2.75</td>\n",
       "      <td>Female</td>\n",
       "      <td>Sat</td>\n",
       "    </tr>\n",
       "    <tr>\n",
       "      <td>22</td>\n",
       "      <td>2.23</td>\n",
       "      <td>Female</td>\n",
       "      <td>Sat</td>\n",
       "    </tr>\n",
       "    <tr>\n",
       "      <td>23</td>\n",
       "      <td>7.58</td>\n",
       "      <td>Male</td>\n",
       "      <td>Sat</td>\n",
       "    </tr>\n",
       "    <tr>\n",
       "      <td>24</td>\n",
       "      <td>3.18</td>\n",
       "      <td>Male</td>\n",
       "      <td>Sat</td>\n",
       "    </tr>\n",
       "    <tr>\n",
       "      <td>25</td>\n",
       "      <td>2.34</td>\n",
       "      <td>Male</td>\n",
       "      <td>Sat</td>\n",
       "    </tr>\n",
       "    <tr>\n",
       "      <td>26</td>\n",
       "      <td>2.00</td>\n",
       "      <td>Male</td>\n",
       "      <td>Sat</td>\n",
       "    </tr>\n",
       "    <tr>\n",
       "      <td>27</td>\n",
       "      <td>2.00</td>\n",
       "      <td>Male</td>\n",
       "      <td>Sat</td>\n",
       "    </tr>\n",
       "    <tr>\n",
       "      <td>28</td>\n",
       "      <td>4.30</td>\n",
       "      <td>Male</td>\n",
       "      <td>Sat</td>\n",
       "    </tr>\n",
       "    <tr>\n",
       "      <td>29</td>\n",
       "      <td>3.00</td>\n",
       "      <td>Female</td>\n",
       "      <td>Sat</td>\n",
       "    </tr>\n",
       "    <tr>\n",
       "      <td>30</td>\n",
       "      <td>1.45</td>\n",
       "      <td>Male</td>\n",
       "      <td>Sat</td>\n",
       "    </tr>\n",
       "    <tr>\n",
       "      <td>31</td>\n",
       "      <td>2.50</td>\n",
       "      <td>Male</td>\n",
       "      <td>Sat</td>\n",
       "    </tr>\n",
       "    <tr>\n",
       "      <td>32</td>\n",
       "      <td>3.00</td>\n",
       "      <td>Female</td>\n",
       "      <td>Sat</td>\n",
       "    </tr>\n",
       "    <tr>\n",
       "      <td>33</td>\n",
       "      <td>2.45</td>\n",
       "      <td>Female</td>\n",
       "      <td>Sat</td>\n",
       "    </tr>\n",
       "    <tr>\n",
       "      <td>34</td>\n",
       "      <td>3.27</td>\n",
       "      <td>Male</td>\n",
       "      <td>Sat</td>\n",
       "    </tr>\n",
       "    <tr>\n",
       "      <td>35</td>\n",
       "      <td>3.60</td>\n",
       "      <td>Male</td>\n",
       "      <td>Sat</td>\n",
       "    </tr>\n",
       "    <tr>\n",
       "      <td>36</td>\n",
       "      <td>2.00</td>\n",
       "      <td>Male</td>\n",
       "      <td>Sat</td>\n",
       "    </tr>\n",
       "    <tr>\n",
       "      <td>37</td>\n",
       "      <td>3.07</td>\n",
       "      <td>Female</td>\n",
       "      <td>Sat</td>\n",
       "    </tr>\n",
       "    <tr>\n",
       "      <td>38</td>\n",
       "      <td>2.31</td>\n",
       "      <td>Male</td>\n",
       "      <td>Sat</td>\n",
       "    </tr>\n",
       "    <tr>\n",
       "      <td>39</td>\n",
       "      <td>5.00</td>\n",
       "      <td>Male</td>\n",
       "      <td>Sat</td>\n",
       "    </tr>\n",
       "    <tr>\n",
       "      <td>40</td>\n",
       "      <td>2.24</td>\n",
       "      <td>Male</td>\n",
       "      <td>Sat</td>\n",
       "    </tr>\n",
       "    <tr>\n",
       "      <td>41</td>\n",
       "      <td>2.54</td>\n",
       "      <td>Male</td>\n",
       "      <td>Sun</td>\n",
       "    </tr>\n",
       "    <tr>\n",
       "      <td>42</td>\n",
       "      <td>3.06</td>\n",
       "      <td>Male</td>\n",
       "      <td>Sun</td>\n",
       "    </tr>\n",
       "    <tr>\n",
       "      <td>43</td>\n",
       "      <td>1.32</td>\n",
       "      <td>Male</td>\n",
       "      <td>Sun</td>\n",
       "    </tr>\n",
       "    <tr>\n",
       "      <td>44</td>\n",
       "      <td>5.60</td>\n",
       "      <td>Male</td>\n",
       "      <td>Sun</td>\n",
       "    </tr>\n",
       "  </tbody>\n",
       "</table>\n",
       "</div>"
      ],
      "text/plain": [
       "     tip     sex  day\n",
       "20  4.08    Male  Sat\n",
       "21  2.75  Female  Sat\n",
       "22  2.23  Female  Sat\n",
       "23  7.58    Male  Sat\n",
       "24  3.18    Male  Sat\n",
       "25  2.34    Male  Sat\n",
       "26  2.00    Male  Sat\n",
       "27  2.00    Male  Sat\n",
       "28  4.30    Male  Sat\n",
       "29  3.00  Female  Sat\n",
       "30  1.45    Male  Sat\n",
       "31  2.50    Male  Sat\n",
       "32  3.00  Female  Sat\n",
       "33  2.45  Female  Sat\n",
       "34  3.27    Male  Sat\n",
       "35  3.60    Male  Sat\n",
       "36  2.00    Male  Sat\n",
       "37  3.07  Female  Sat\n",
       "38  2.31    Male  Sat\n",
       "39  5.00    Male  Sat\n",
       "40  2.24    Male  Sat\n",
       "41  2.54    Male  Sun\n",
       "42  3.06    Male  Sun\n",
       "43  1.32    Male  Sun\n",
       "44  5.60    Male  Sun"
      ]
     },
     "execution_count": 133,
     "metadata": {},
     "output_type": "execute_result"
    }
   ],
   "source": [
    "# Challenge:\n",
    "\n",
    "# Using the tips dataframe, create a new one that contains the \n",
    "# information contained in all rows between the 20th (inclusive) \n",
    "# and the 45th (exclusive) and only the columns: tip, sex, day\n",
    "\n",
    "#my answer\n",
    "tips.iloc[20:45, :].loc[: ,['tip', 'sex', 'day']]\n",
    "\n",
    "#also possible answer \n",
    "#tips.loc[20:44,['tip', 'sex', 'day'] ]"
   ]
  },
  {
   "cell_type": "markdown",
   "metadata": {
    "slideshow": {
     "slide_type": "slide"
    }
   },
   "source": [
    "Note that certain operations are exchangeable: the 3rd element of column \"sex\" can be obtained with either of the following ways: \n",
    "```python\n",
    "tips.sex[2] #access col as series, then the 3rd element of that\n",
    "tips.loc[2,\"sex\"] #access the entry in dataframe by giving the index labels of row and col (recall here index labels coincide with numerical indices\n",
    "tips.loc[2][\"sex\"] #accessing the whole row as a series, then using the column name as index label\n",
    "```\n",
    "etc\n"
   ]
  },
  {
   "cell_type": "markdown",
   "metadata": {},
   "source": [
    "** class notes...\n",
    "slicing is only read only. you cant write to it. otherwise pandas will complain\n",
    "if you wantto use it, copy it\n",
    "if you want to edit original df, use loc"
   ]
  },
  {
   "cell_type": "markdown",
   "metadata": {
    "slideshow": {
     "slide_type": "slide"
    }
   },
   "source": [
    "## Filtering\n",
    "\n",
    "As with series, we can use a boolean-valued series to index a dataframe provided the share the same index labels. The simplest instance of this is to use series produced as boolean masks of columns of the dataframe. The output of this *filtering* operation is a dataframe with subset of rows corresponding to the True values in the boolean mask. \n",
    "\n",
    "For example, for the tips data, what does the following produce? \n",
    "```python\n",
    "tips[tips.sex == \"Male\"] \n",
    "```\n",
    "\n",
    "Recall that the boolean operators are \n",
    "```python\n",
    "& # AND\n",
    "| # OR\n",
    "~ # NOT\n",
    "\n",
    "```"
   ]
  },
  {
   "cell_type": "code",
   "execution_count": 155,
   "metadata": {},
   "outputs": [
    {
     "data": {
      "text/html": [
       "<div>\n",
       "<style scoped>\n",
       "    .dataframe tbody tr th:only-of-type {\n",
       "        vertical-align: middle;\n",
       "    }\n",
       "\n",
       "    .dataframe tbody tr th {\n",
       "        vertical-align: top;\n",
       "    }\n",
       "\n",
       "    .dataframe thead th {\n",
       "        text-align: right;\n",
       "    }\n",
       "</style>\n",
       "<table border=\"1\" class=\"dataframe\">\n",
       "  <thead>\n",
       "    <tr style=\"text-align: right;\">\n",
       "      <th></th>\n",
       "      <th>total_bill</th>\n",
       "      <th>tip</th>\n",
       "      <th>sex</th>\n",
       "      <th>smoker</th>\n",
       "      <th>day</th>\n",
       "      <th>time</th>\n",
       "      <th>size</th>\n",
       "    </tr>\n",
       "  </thead>\n",
       "  <tbody>\n",
       "    <tr>\n",
       "      <td>2</td>\n",
       "      <td>21.01</td>\n",
       "      <td>3.50</td>\n",
       "      <td>Male</td>\n",
       "      <td>No</td>\n",
       "      <td>Sun</td>\n",
       "      <td>Dinner</td>\n",
       "      <td>3</td>\n",
       "    </tr>\n",
       "    <tr>\n",
       "      <td>3</td>\n",
       "      <td>23.68</td>\n",
       "      <td>3.31</td>\n",
       "      <td>Male</td>\n",
       "      <td>No</td>\n",
       "      <td>Sun</td>\n",
       "      <td>Dinner</td>\n",
       "      <td>2</td>\n",
       "    </tr>\n",
       "    <tr>\n",
       "      <td>5</td>\n",
       "      <td>25.29</td>\n",
       "      <td>4.71</td>\n",
       "      <td>Male</td>\n",
       "      <td>No</td>\n",
       "      <td>Sun</td>\n",
       "      <td>Dinner</td>\n",
       "      <td>4</td>\n",
       "    </tr>\n",
       "    <tr>\n",
       "      <td>7</td>\n",
       "      <td>26.88</td>\n",
       "      <td>3.12</td>\n",
       "      <td>Male</td>\n",
       "      <td>No</td>\n",
       "      <td>Sun</td>\n",
       "      <td>Dinner</td>\n",
       "      <td>4</td>\n",
       "    </tr>\n",
       "    <tr>\n",
       "      <td>9</td>\n",
       "      <td>14.78</td>\n",
       "      <td>3.23</td>\n",
       "      <td>Male</td>\n",
       "      <td>No</td>\n",
       "      <td>Sun</td>\n",
       "      <td>Dinner</td>\n",
       "      <td>2</td>\n",
       "    </tr>\n",
       "    <tr>\n",
       "      <td>...</td>\n",
       "      <td>...</td>\n",
       "      <td>...</td>\n",
       "      <td>...</td>\n",
       "      <td>...</td>\n",
       "      <td>...</td>\n",
       "      <td>...</td>\n",
       "      <td>...</td>\n",
       "    </tr>\n",
       "    <tr>\n",
       "      <td>228</td>\n",
       "      <td>13.28</td>\n",
       "      <td>2.72</td>\n",
       "      <td>Male</td>\n",
       "      <td>No</td>\n",
       "      <td>Sat</td>\n",
       "      <td>Dinner</td>\n",
       "      <td>2</td>\n",
       "    </tr>\n",
       "    <tr>\n",
       "      <td>231</td>\n",
       "      <td>15.69</td>\n",
       "      <td>3.00</td>\n",
       "      <td>Male</td>\n",
       "      <td>Yes</td>\n",
       "      <td>Sat</td>\n",
       "      <td>Dinner</td>\n",
       "      <td>3</td>\n",
       "    </tr>\n",
       "    <tr>\n",
       "      <td>232</td>\n",
       "      <td>11.61</td>\n",
       "      <td>3.39</td>\n",
       "      <td>Male</td>\n",
       "      <td>No</td>\n",
       "      <td>Sat</td>\n",
       "      <td>Dinner</td>\n",
       "      <td>2</td>\n",
       "    </tr>\n",
       "    <tr>\n",
       "      <td>234</td>\n",
       "      <td>15.53</td>\n",
       "      <td>3.00</td>\n",
       "      <td>Male</td>\n",
       "      <td>Yes</td>\n",
       "      <td>Sat</td>\n",
       "      <td>Dinner</td>\n",
       "      <td>2</td>\n",
       "    </tr>\n",
       "    <tr>\n",
       "      <td>239</td>\n",
       "      <td>29.03</td>\n",
       "      <td>5.92</td>\n",
       "      <td>Male</td>\n",
       "      <td>No</td>\n",
       "      <td>Sat</td>\n",
       "      <td>Dinner</td>\n",
       "      <td>3</td>\n",
       "    </tr>\n",
       "  </tbody>\n",
       "</table>\n",
       "<p>107 rows × 7 columns</p>\n",
       "</div>"
      ],
      "text/plain": [
       "     total_bill   tip   sex smoker  day    time  size\n",
       "2         21.01  3.50  Male     No  Sun  Dinner     3\n",
       "3         23.68  3.31  Male     No  Sun  Dinner     2\n",
       "5         25.29  4.71  Male     No  Sun  Dinner     4\n",
       "7         26.88  3.12  Male     No  Sun  Dinner     4\n",
       "9         14.78  3.23  Male     No  Sun  Dinner     2\n",
       "..          ...   ...   ...    ...  ...     ...   ...\n",
       "228       13.28  2.72  Male     No  Sat  Dinner     2\n",
       "231       15.69  3.00  Male    Yes  Sat  Dinner     3\n",
       "232       11.61  3.39  Male     No  Sat  Dinner     2\n",
       "234       15.53  3.00  Male    Yes  Sat  Dinner     2\n",
       "239       29.03  5.92  Male     No  Sat  Dinner     3\n",
       "\n",
       "[107 rows x 7 columns]"
      ]
     },
     "execution_count": 155,
     "metadata": {},
     "output_type": "execute_result"
    }
   ],
   "source": [
    "#boolean and filtering\n",
    "tips[(tips.sex == \"Male\") & (tips.tip >2)] \n"
   ]
  },
  {
   "cell_type": "code",
   "execution_count": 156,
   "metadata": {},
   "outputs": [
    {
     "data": {
      "text/html": [
       "<div>\n",
       "<style scoped>\n",
       "    .dataframe tbody tr th:only-of-type {\n",
       "        vertical-align: middle;\n",
       "    }\n",
       "\n",
       "    .dataframe tbody tr th {\n",
       "        vertical-align: top;\n",
       "    }\n",
       "\n",
       "    .dataframe thead th {\n",
       "        text-align: right;\n",
       "    }\n",
       "</style>\n",
       "<table border=\"1\" class=\"dataframe\">\n",
       "  <thead>\n",
       "    <tr style=\"text-align: right;\">\n",
       "      <th></th>\n",
       "      <th>total_bill</th>\n",
       "      <th>tip</th>\n",
       "      <th>sex</th>\n",
       "      <th>smoker</th>\n",
       "      <th>day</th>\n",
       "      <th>time</th>\n",
       "      <th>size</th>\n",
       "    </tr>\n",
       "  </thead>\n",
       "  <tbody>\n",
       "    <tr>\n",
       "      <td>0</td>\n",
       "      <td>foo</td>\n",
       "      <td>1.01</td>\n",
       "      <td>Female</td>\n",
       "      <td>No</td>\n",
       "      <td>Sun</td>\n",
       "      <td>Dinner</td>\n",
       "      <td>2</td>\n",
       "    </tr>\n",
       "    <tr>\n",
       "      <td>1</td>\n",
       "      <td>foo</td>\n",
       "      <td>1.66</td>\n",
       "      <td>Male</td>\n",
       "      <td>No</td>\n",
       "      <td>Sun</td>\n",
       "      <td>Dinner</td>\n",
       "      <td>3</td>\n",
       "    </tr>\n",
       "    <tr>\n",
       "      <td>2</td>\n",
       "      <td>foo</td>\n",
       "      <td>3.50</td>\n",
       "      <td>Male</td>\n",
       "      <td>No</td>\n",
       "      <td>Sun</td>\n",
       "      <td>Dinner</td>\n",
       "      <td>3</td>\n",
       "    </tr>\n",
       "    <tr>\n",
       "      <td>3</td>\n",
       "      <td>foo</td>\n",
       "      <td>3.31</td>\n",
       "      <td>Male</td>\n",
       "      <td>No</td>\n",
       "      <td>Sun</td>\n",
       "      <td>Dinner</td>\n",
       "      <td>2</td>\n",
       "    </tr>\n",
       "    <tr>\n",
       "      <td>4</td>\n",
       "      <td>foo</td>\n",
       "      <td>3.61</td>\n",
       "      <td>Female</td>\n",
       "      <td>No</td>\n",
       "      <td>Sun</td>\n",
       "      <td>Dinner</td>\n",
       "      <td>4</td>\n",
       "    </tr>\n",
       "    <tr>\n",
       "      <td>...</td>\n",
       "      <td>...</td>\n",
       "      <td>...</td>\n",
       "      <td>...</td>\n",
       "      <td>...</td>\n",
       "      <td>...</td>\n",
       "      <td>...</td>\n",
       "      <td>...</td>\n",
       "    </tr>\n",
       "    <tr>\n",
       "      <td>239</td>\n",
       "      <td>foo</td>\n",
       "      <td>5.92</td>\n",
       "      <td>Male</td>\n",
       "      <td>No</td>\n",
       "      <td>Sat</td>\n",
       "      <td>Dinner</td>\n",
       "      <td>3</td>\n",
       "    </tr>\n",
       "    <tr>\n",
       "      <td>240</td>\n",
       "      <td>foo</td>\n",
       "      <td>2.00</td>\n",
       "      <td>Female</td>\n",
       "      <td>Yes</td>\n",
       "      <td>Sat</td>\n",
       "      <td>Dinner</td>\n",
       "      <td>2</td>\n",
       "    </tr>\n",
       "    <tr>\n",
       "      <td>241</td>\n",
       "      <td>foo</td>\n",
       "      <td>2.00</td>\n",
       "      <td>Male</td>\n",
       "      <td>Yes</td>\n",
       "      <td>Sat</td>\n",
       "      <td>Dinner</td>\n",
       "      <td>2</td>\n",
       "    </tr>\n",
       "    <tr>\n",
       "      <td>242</td>\n",
       "      <td>foo</td>\n",
       "      <td>1.75</td>\n",
       "      <td>Male</td>\n",
       "      <td>No</td>\n",
       "      <td>Sat</td>\n",
       "      <td>Dinner</td>\n",
       "      <td>2</td>\n",
       "    </tr>\n",
       "    <tr>\n",
       "      <td>243</td>\n",
       "      <td>foo</td>\n",
       "      <td>3.00</td>\n",
       "      <td>Female</td>\n",
       "      <td>No</td>\n",
       "      <td>Thur</td>\n",
       "      <td>Dinner</td>\n",
       "      <td>2</td>\n",
       "    </tr>\n",
       "  </tbody>\n",
       "</table>\n",
       "<p>244 rows × 7 columns</p>\n",
       "</div>"
      ],
      "text/plain": [
       "    total_bill   tip     sex smoker   day    time  size\n",
       "0          foo  1.01  Female     No   Sun  Dinner     2\n",
       "1          foo  1.66    Male     No   Sun  Dinner     3\n",
       "2          foo  3.50    Male     No   Sun  Dinner     3\n",
       "3          foo  3.31    Male     No   Sun  Dinner     2\n",
       "4          foo  3.61  Female     No   Sun  Dinner     4\n",
       "..         ...   ...     ...    ...   ...     ...   ...\n",
       "239        foo  5.92    Male     No   Sat  Dinner     3\n",
       "240        foo  2.00  Female    Yes   Sat  Dinner     2\n",
       "241        foo  2.00    Male    Yes   Sat  Dinner     2\n",
       "242        foo  1.75    Male     No   Sat  Dinner     2\n",
       "243        foo  3.00  Female     No  Thur  Dinner     2\n",
       "\n",
       "[244 rows x 7 columns]"
      ]
     },
     "execution_count": 156,
     "metadata": {},
     "output_type": "execute_result"
    }
   ],
   "source": [
    "#example of it changing your dataframe \n",
    "#tips['total_bill'] = 'foo'\n",
    "#tips"
   ]
  },
  {
   "cell_type": "markdown",
   "metadata": {
    "slideshow": {
     "slide_type": "slide"
    }
   },
   "source": [
    "## Statistics and computations\n",
    "\n",
    "dataframe comes with several attributes for computing column-wise statistics and summaries. We highlight some \n",
    "```python\n",
    ".boxplot # check out the \"by = \" option!\n",
    ".corrwith & .corr # within and across dataframes!\n",
    ".dot \n",
    ".mean/median/max/quantile/sum etc\n",
    ".sample \n",
    ".sort_values \n",
    "```"
   ]
  },
  {
   "cell_type": "code",
   "execution_count": 134,
   "metadata": {
    "scrolled": true
   },
   "outputs": [
    {
     "data": {
      "text/html": [
       "<div>\n",
       "<style scoped>\n",
       "    .dataframe tbody tr th:only-of-type {\n",
       "        vertical-align: middle;\n",
       "    }\n",
       "\n",
       "    .dataframe tbody tr th {\n",
       "        vertical-align: top;\n",
       "    }\n",
       "\n",
       "    .dataframe thead th {\n",
       "        text-align: right;\n",
       "    }\n",
       "</style>\n",
       "<table border=\"1\" class=\"dataframe\">\n",
       "  <thead>\n",
       "    <tr style=\"text-align: right;\">\n",
       "      <th></th>\n",
       "      <th>total_bill</th>\n",
       "      <th>tip</th>\n",
       "      <th>sex</th>\n",
       "      <th>smoker</th>\n",
       "      <th>day</th>\n",
       "      <th>time</th>\n",
       "      <th>size</th>\n",
       "    </tr>\n",
       "  </thead>\n",
       "  <tbody>\n",
       "    <tr>\n",
       "      <td>0</td>\n",
       "      <td>16.99</td>\n",
       "      <td>1.01</td>\n",
       "      <td>Female</td>\n",
       "      <td>No</td>\n",
       "      <td>Sun</td>\n",
       "      <td>Dinner</td>\n",
       "      <td>2</td>\n",
       "    </tr>\n",
       "    <tr>\n",
       "      <td>1</td>\n",
       "      <td>10.34</td>\n",
       "      <td>1.66</td>\n",
       "      <td>Male</td>\n",
       "      <td>No</td>\n",
       "      <td>Sun</td>\n",
       "      <td>Dinner</td>\n",
       "      <td>3</td>\n",
       "    </tr>\n",
       "    <tr>\n",
       "      <td>2</td>\n",
       "      <td>21.01</td>\n",
       "      <td>3.50</td>\n",
       "      <td>Male</td>\n",
       "      <td>No</td>\n",
       "      <td>Sun</td>\n",
       "      <td>Dinner</td>\n",
       "      <td>3</td>\n",
       "    </tr>\n",
       "    <tr>\n",
       "      <td>3</td>\n",
       "      <td>23.68</td>\n",
       "      <td>3.31</td>\n",
       "      <td>Male</td>\n",
       "      <td>No</td>\n",
       "      <td>Sun</td>\n",
       "      <td>Dinner</td>\n",
       "      <td>2</td>\n",
       "    </tr>\n",
       "    <tr>\n",
       "      <td>4</td>\n",
       "      <td>24.59</td>\n",
       "      <td>3.61</td>\n",
       "      <td>Female</td>\n",
       "      <td>No</td>\n",
       "      <td>Sun</td>\n",
       "      <td>Dinner</td>\n",
       "      <td>4</td>\n",
       "    </tr>\n",
       "  </tbody>\n",
       "</table>\n",
       "</div>"
      ],
      "text/plain": [
       "   total_bill   tip     sex smoker  day    time  size\n",
       "0       16.99  1.01  Female     No  Sun  Dinner     2\n",
       "1       10.34  1.66    Male     No  Sun  Dinner     3\n",
       "2       21.01  3.50    Male     No  Sun  Dinner     3\n",
       "3       23.68  3.31    Male     No  Sun  Dinner     2\n",
       "4       24.59  3.61  Female     No  Sun  Dinner     4"
      ]
     },
     "execution_count": 134,
     "metadata": {},
     "output_type": "execute_result"
    }
   ],
   "source": [
    "tips.head()"
   ]
  },
  {
   "cell_type": "code",
   "execution_count": 166,
   "metadata": {},
   "outputs": [
    {
     "name": "stdout",
     "output_type": "stream",
     "text": [
      "244\n"
     ]
    },
    {
     "data": {
      "text/html": [
       "<div>\n",
       "<style scoped>\n",
       "    .dataframe tbody tr th:only-of-type {\n",
       "        vertical-align: middle;\n",
       "    }\n",
       "\n",
       "    .dataframe tbody tr th {\n",
       "        vertical-align: top;\n",
       "    }\n",
       "\n",
       "    .dataframe thead th {\n",
       "        text-align: right;\n",
       "    }\n",
       "</style>\n",
       "<table border=\"1\" class=\"dataframe\">\n",
       "  <thead>\n",
       "    <tr style=\"text-align: right;\">\n",
       "      <th></th>\n",
       "      <th>total_bill</th>\n",
       "      <th>tip</th>\n",
       "      <th>sex</th>\n",
       "      <th>smoker</th>\n",
       "      <th>day</th>\n",
       "      <th>time</th>\n",
       "      <th>size</th>\n",
       "    </tr>\n",
       "  </thead>\n",
       "  <tbody>\n",
       "    <tr>\n",
       "      <td>118</td>\n",
       "      <td>12.43</td>\n",
       "      <td>1.80</td>\n",
       "      <td>Female</td>\n",
       "      <td>No</td>\n",
       "      <td>Thur</td>\n",
       "      <td>Lunch</td>\n",
       "      <td>2</td>\n",
       "    </tr>\n",
       "    <tr>\n",
       "      <td>21</td>\n",
       "      <td>20.29</td>\n",
       "      <td>2.75</td>\n",
       "      <td>Female</td>\n",
       "      <td>No</td>\n",
       "      <td>Sat</td>\n",
       "      <td>Dinner</td>\n",
       "      <td>2</td>\n",
       "    </tr>\n",
       "    <tr>\n",
       "      <td>175</td>\n",
       "      <td>32.90</td>\n",
       "      <td>3.11</td>\n",
       "      <td>Male</td>\n",
       "      <td>Yes</td>\n",
       "      <td>Sun</td>\n",
       "      <td>Dinner</td>\n",
       "      <td>2</td>\n",
       "    </tr>\n",
       "    <tr>\n",
       "      <td>237</td>\n",
       "      <td>32.83</td>\n",
       "      <td>1.17</td>\n",
       "      <td>Male</td>\n",
       "      <td>Yes</td>\n",
       "      <td>Sat</td>\n",
       "      <td>Dinner</td>\n",
       "      <td>2</td>\n",
       "    </tr>\n",
       "    <tr>\n",
       "      <td>40</td>\n",
       "      <td>16.04</td>\n",
       "      <td>2.24</td>\n",
       "      <td>Male</td>\n",
       "      <td>No</td>\n",
       "      <td>Sat</td>\n",
       "      <td>Dinner</td>\n",
       "      <td>3</td>\n",
       "    </tr>\n",
       "    <tr>\n",
       "      <td>...</td>\n",
       "      <td>...</td>\n",
       "      <td>...</td>\n",
       "      <td>...</td>\n",
       "      <td>...</td>\n",
       "      <td>...</td>\n",
       "      <td>...</td>\n",
       "      <td>...</td>\n",
       "    </tr>\n",
       "    <tr>\n",
       "      <td>166</td>\n",
       "      <td>20.76</td>\n",
       "      <td>2.24</td>\n",
       "      <td>Male</td>\n",
       "      <td>No</td>\n",
       "      <td>Sun</td>\n",
       "      <td>Dinner</td>\n",
       "      <td>2</td>\n",
       "    </tr>\n",
       "    <tr>\n",
       "      <td>75</td>\n",
       "      <td>10.51</td>\n",
       "      <td>1.25</td>\n",
       "      <td>Male</td>\n",
       "      <td>No</td>\n",
       "      <td>Sat</td>\n",
       "      <td>Dinner</td>\n",
       "      <td>2</td>\n",
       "    </tr>\n",
       "    <tr>\n",
       "      <td>23</td>\n",
       "      <td>39.42</td>\n",
       "      <td>7.58</td>\n",
       "      <td>Male</td>\n",
       "      <td>No</td>\n",
       "      <td>Sat</td>\n",
       "      <td>Dinner</td>\n",
       "      <td>4</td>\n",
       "    </tr>\n",
       "    <tr>\n",
       "      <td>204</td>\n",
       "      <td>20.53</td>\n",
       "      <td>4.00</td>\n",
       "      <td>Male</td>\n",
       "      <td>Yes</td>\n",
       "      <td>Thur</td>\n",
       "      <td>Lunch</td>\n",
       "      <td>4</td>\n",
       "    </tr>\n",
       "    <tr>\n",
       "      <td>73</td>\n",
       "      <td>25.28</td>\n",
       "      <td>5.00</td>\n",
       "      <td>Female</td>\n",
       "      <td>Yes</td>\n",
       "      <td>Sat</td>\n",
       "      <td>Dinner</td>\n",
       "      <td>2</td>\n",
       "    </tr>\n",
       "  </tbody>\n",
       "</table>\n",
       "<p>122 rows × 7 columns</p>\n",
       "</div>"
      ],
      "text/plain": [
       "     total_bill   tip     sex smoker   day    time  size\n",
       "118       12.43  1.80  Female     No  Thur   Lunch     2\n",
       "21        20.29  2.75  Female     No   Sat  Dinner     2\n",
       "175       32.90  3.11    Male    Yes   Sun  Dinner     2\n",
       "237       32.83  1.17    Male    Yes   Sat  Dinner     2\n",
       "40        16.04  2.24    Male     No   Sat  Dinner     3\n",
       "..          ...   ...     ...    ...   ...     ...   ...\n",
       "166       20.76  2.24    Male     No   Sun  Dinner     2\n",
       "75        10.51  1.25    Male     No   Sat  Dinner     2\n",
       "23        39.42  7.58    Male     No   Sat  Dinner     4\n",
       "204       20.53  4.00    Male    Yes  Thur   Lunch     4\n",
       "73        25.28  5.00  Female    Yes   Sat  Dinner     2\n",
       "\n",
       "[122 rows x 7 columns]"
      ]
     },
     "execution_count": 166,
     "metadata": {},
     "output_type": "execute_result"
    }
   ],
   "source": [
    "#example gives you a random fraction of your data\n",
    "print(len(tips))\n",
    "tips.sample(frac=0.5)"
   ]
  },
  {
   "cell_type": "code",
   "execution_count": 153,
   "metadata": {},
   "outputs": [
    {
     "data": {
      "text/html": [
       "<div>\n",
       "<style scoped>\n",
       "    .dataframe tbody tr th:only-of-type {\n",
       "        vertical-align: middle;\n",
       "    }\n",
       "\n",
       "    .dataframe tbody tr th {\n",
       "        vertical-align: top;\n",
       "    }\n",
       "\n",
       "    .dataframe thead th {\n",
       "        text-align: right;\n",
       "    }\n",
       "</style>\n",
       "<table border=\"1\" class=\"dataframe\">\n",
       "  <thead>\n",
       "    <tr style=\"text-align: right;\">\n",
       "      <th></th>\n",
       "      <th>total_bill</th>\n",
       "      <th>tip</th>\n",
       "      <th>sex</th>\n",
       "      <th>smoker</th>\n",
       "      <th>day</th>\n",
       "      <th>time</th>\n",
       "      <th>size</th>\n",
       "    </tr>\n",
       "  </thead>\n",
       "  <tbody>\n",
       "    <tr>\n",
       "      <td>1</td>\n",
       "      <td>10.34</td>\n",
       "      <td>1.66</td>\n",
       "      <td>Male</td>\n",
       "      <td>No</td>\n",
       "      <td>Sun</td>\n",
       "      <td>Dinner</td>\n",
       "      <td>3</td>\n",
       "    </tr>\n",
       "    <tr>\n",
       "      <td>2</td>\n",
       "      <td>21.01</td>\n",
       "      <td>3.50</td>\n",
       "      <td>Male</td>\n",
       "      <td>No</td>\n",
       "      <td>Sun</td>\n",
       "      <td>Dinner</td>\n",
       "      <td>3</td>\n",
       "    </tr>\n",
       "    <tr>\n",
       "      <td>3</td>\n",
       "      <td>23.68</td>\n",
       "      <td>3.31</td>\n",
       "      <td>Male</td>\n",
       "      <td>No</td>\n",
       "      <td>Sun</td>\n",
       "      <td>Dinner</td>\n",
       "      <td>2</td>\n",
       "    </tr>\n",
       "    <tr>\n",
       "      <td>5</td>\n",
       "      <td>25.29</td>\n",
       "      <td>4.71</td>\n",
       "      <td>Male</td>\n",
       "      <td>No</td>\n",
       "      <td>Sun</td>\n",
       "      <td>Dinner</td>\n",
       "      <td>4</td>\n",
       "    </tr>\n",
       "    <tr>\n",
       "      <td>6</td>\n",
       "      <td>8.77</td>\n",
       "      <td>2.00</td>\n",
       "      <td>Male</td>\n",
       "      <td>No</td>\n",
       "      <td>Sun</td>\n",
       "      <td>Dinner</td>\n",
       "      <td>2</td>\n",
       "    </tr>\n",
       "    <tr>\n",
       "      <td>...</td>\n",
       "      <td>...</td>\n",
       "      <td>...</td>\n",
       "      <td>...</td>\n",
       "      <td>...</td>\n",
       "      <td>...</td>\n",
       "      <td>...</td>\n",
       "      <td>...</td>\n",
       "    </tr>\n",
       "    <tr>\n",
       "      <td>236</td>\n",
       "      <td>12.60</td>\n",
       "      <td>1.00</td>\n",
       "      <td>Male</td>\n",
       "      <td>Yes</td>\n",
       "      <td>Sat</td>\n",
       "      <td>Dinner</td>\n",
       "      <td>2</td>\n",
       "    </tr>\n",
       "    <tr>\n",
       "      <td>237</td>\n",
       "      <td>32.83</td>\n",
       "      <td>1.17</td>\n",
       "      <td>Male</td>\n",
       "      <td>Yes</td>\n",
       "      <td>Sat</td>\n",
       "      <td>Dinner</td>\n",
       "      <td>2</td>\n",
       "    </tr>\n",
       "    <tr>\n",
       "      <td>239</td>\n",
       "      <td>29.03</td>\n",
       "      <td>5.92</td>\n",
       "      <td>Male</td>\n",
       "      <td>No</td>\n",
       "      <td>Sat</td>\n",
       "      <td>Dinner</td>\n",
       "      <td>3</td>\n",
       "    </tr>\n",
       "    <tr>\n",
       "      <td>241</td>\n",
       "      <td>22.67</td>\n",
       "      <td>2.00</td>\n",
       "      <td>Male</td>\n",
       "      <td>Yes</td>\n",
       "      <td>Sat</td>\n",
       "      <td>Dinner</td>\n",
       "      <td>2</td>\n",
       "    </tr>\n",
       "    <tr>\n",
       "      <td>242</td>\n",
       "      <td>17.82</td>\n",
       "      <td>1.75</td>\n",
       "      <td>Male</td>\n",
       "      <td>No</td>\n",
       "      <td>Sat</td>\n",
       "      <td>Dinner</td>\n",
       "      <td>2</td>\n",
       "    </tr>\n",
       "  </tbody>\n",
       "</table>\n",
       "<p>157 rows × 7 columns</p>\n",
       "</div>"
      ],
      "text/plain": [
       "     total_bill   tip   sex smoker  day    time  size\n",
       "1         10.34  1.66  Male     No  Sun  Dinner     3\n",
       "2         21.01  3.50  Male     No  Sun  Dinner     3\n",
       "3         23.68  3.31  Male     No  Sun  Dinner     2\n",
       "5         25.29  4.71  Male     No  Sun  Dinner     4\n",
       "6          8.77  2.00  Male     No  Sun  Dinner     2\n",
       "..          ...   ...   ...    ...  ...     ...   ...\n",
       "236       12.60  1.00  Male    Yes  Sat  Dinner     2\n",
       "237       32.83  1.17  Male    Yes  Sat  Dinner     2\n",
       "239       29.03  5.92  Male     No  Sat  Dinner     3\n",
       "241       22.67  2.00  Male    Yes  Sat  Dinner     2\n",
       "242       17.82  1.75  Male     No  Sat  Dinner     2\n",
       "\n",
       "[157 rows x 7 columns]"
      ]
     },
     "execution_count": 153,
     "metadata": {},
     "output_type": "execute_result"
    }
   ],
   "source": [
    "# Challenge:\n",
    "\n",
    "# Using the tips dataframe, calculate the correlation between\n",
    "# tip and size for only Male clients during Dinner. \n",
    "\n",
    "tips[tips.sex == \"Male\"]\n",
    "\n",
    "\n",
    "#.loc[:, ['tips', 'size']]\n",
    "\n",
    "\n",
    "# HINT: Remember that \"size\" cannot be accessed via dot notation, as it's an \n",
    "# attribute of the series!"
   ]
  },
  {
   "cell_type": "code",
   "execution_count": 179,
   "metadata": {},
   "outputs": [
    {
     "data": {
      "text/plain": [
       "0.40463164280330477"
      ]
     },
     "execution_count": 179,
     "metadata": {},
     "output_type": "execute_result"
    }
   ],
   "source": [
    "# my answer\n",
    "males = tips.loc[(tips.sex == \"Male\") & (tips.time == 'Dinner')]\n",
    "males['tip'].corr(males['size'])"
   ]
  },
  {
   "cell_type": "code",
   "execution_count": 180,
   "metadata": {},
   "outputs": [
    {
     "data": {
      "text/plain": [
       "0.40463164280330477"
      ]
     },
     "execution_count": 180,
     "metadata": {},
     "output_type": "execute_result"
    }
   ],
   "source": [
    "#answer from class\n",
    "t = tips[(tips.sex == 'Male') & (tips.time == 'Dinner')]\n",
    "t['size'].corr(t.tip)"
   ]
  },
  {
   "cell_type": "markdown",
   "metadata": {
    "slideshow": {
     "slide_type": "slide"
    }
   },
   "source": [
    "## GroupBy\n",
    "\n",
    "This dataframe method groups the dataframe according to the values of a column, treating them as categorical values; it returns a groupby object!\n",
    "\n",
    "Groupby objects are useful, but can feel a bit opaque. Let's play around with them a bit: "
   ]
  },
  {
   "cell_type": "code",
   "execution_count": 9,
   "metadata": {},
   "outputs": [
    {
     "data": {
      "text/plain": [
       "<pandas.core.groupby.generic.DataFrameGroupBy object at 0x7faafba15240>"
      ]
     },
     "execution_count": 9,
     "metadata": {},
     "output_type": "execute_result"
    }
   ],
   "source": [
    "# Group tips dataframe by size of table\n",
    "by_size = tips.groupby(\"size\")\n",
    "\n",
    "by_size"
   ]
  },
  {
   "cell_type": "code",
   "execution_count": 10,
   "metadata": {},
   "outputs": [
    {
     "data": {
      "text/plain": [
       "[(1,      total_bill   tip     sex smoker   day    time  size\n",
       "  67         3.07  1.00  Female    Yes   Sat  Dinner     1\n",
       "  82        10.07  1.83  Female     No  Thur   Lunch     1\n",
       "  111        7.25  1.00  Female     No   Sat  Dinner     1\n",
       "  222        8.58  1.92    Male    Yes   Fri   Lunch     1),\n",
       " (2,      total_bill   tip     sex smoker   day    time  size\n",
       "  0         16.99  1.01  Female     No   Sun  Dinner     2\n",
       "  3         23.68  3.31    Male     No   Sun  Dinner     2\n",
       "  6          8.77  2.00    Male     No   Sun  Dinner     2\n",
       "  8         15.04  1.96    Male     No   Sun  Dinner     2\n",
       "  9         14.78  3.23    Male     No   Sun  Dinner     2\n",
       "  ..          ...   ...     ...    ...   ...     ...   ...\n",
       "  237       32.83  1.17    Male    Yes   Sat  Dinner     2\n",
       "  240       27.18  2.00  Female    Yes   Sat  Dinner     2\n",
       "  241       22.67  2.00    Male    Yes   Sat  Dinner     2\n",
       "  242       17.82  1.75    Male     No   Sat  Dinner     2\n",
       "  243       18.78  3.00  Female     No  Thur  Dinner     2\n",
       "  \n",
       "  [156 rows x 7 columns]),\n",
       " (3,      total_bill    tip     sex smoker   day    time  size\n",
       "  1         10.34   1.66    Male     No   Sun  Dinner     3\n",
       "  2         21.01   3.50    Male     No   Sun  Dinner     3\n",
       "  16        10.33   1.67  Female     No   Sun  Dinner     3\n",
       "  17        16.29   3.71    Male     No   Sun  Dinner     3\n",
       "  18        16.97   3.50  Female     No   Sun  Dinner     3\n",
       "  19        20.65   3.35    Male     No   Sat  Dinner     3\n",
       "  35        24.06   3.60    Male     No   Sat  Dinner     3\n",
       "  36        16.31   2.00    Male     No   Sat  Dinner     3\n",
       "  37        16.93   3.07  Female     No   Sat  Dinner     3\n",
       "  38        18.69   2.31    Male     No   Sat  Dinner     3\n",
       "  39        31.27   5.00    Male     No   Sat  Dinner     3\n",
       "  40        16.04   2.24    Male     No   Sat  Dinner     3\n",
       "  48        28.55   2.05    Male     No   Sun  Dinner     3\n",
       "  64        17.59   2.64    Male     No   Sat  Dinner     3\n",
       "  65        20.08   3.15    Male     No   Sat  Dinner     3\n",
       "  71        17.07   3.00  Female     No   Sat  Dinner     3\n",
       "  102       44.30   2.50  Female    Yes   Sat  Dinner     3\n",
       "  112       38.07   4.00    Male     No   Sun  Dinner     3\n",
       "  114       25.71   4.00  Female     No   Sun  Dinner     3\n",
       "  129       22.82   2.18    Male     No  Thur   Lunch     3\n",
       "  146       18.64   1.36  Female     No  Thur   Lunch     3\n",
       "  152       17.26   2.74    Male     No   Sun  Dinner     3\n",
       "  162       16.21   2.00  Female     No   Sun  Dinner     3\n",
       "  165       24.52   3.48    Male     No   Sun  Dinner     3\n",
       "  170       50.81  10.00    Male    Yes   Sat  Dinner     3\n",
       "  182       45.35   3.50    Male    Yes   Sun  Dinner     3\n",
       "  186       20.90   3.50  Female    Yes   Sun  Dinner     3\n",
       "  188       18.15   3.50  Female    Yes   Sun  Dinner     3\n",
       "  189       23.10   4.00    Male    Yes   Sun  Dinner     3\n",
       "  200       18.71   4.00    Male    Yes  Thur   Lunch     3\n",
       "  205       16.47   3.23  Female    Yes  Thur   Lunch     3\n",
       "  206       26.59   3.41    Male    Yes   Sat  Dinner     3\n",
       "  210       30.06   2.00    Male    Yes   Sat  Dinner     3\n",
       "  214       28.17   6.50  Female    Yes   Sat  Dinner     3\n",
       "  223       15.98   3.00  Female     No   Fri   Lunch     3\n",
       "  231       15.69   3.00    Male    Yes   Sat  Dinner     3\n",
       "  238       35.83   4.67  Female     No   Sat  Dinner     3\n",
       "  239       29.03   5.92    Male     No   Sat  Dinner     3),\n",
       " (4,      total_bill   tip     sex smoker   day    time  size\n",
       "  4         24.59  3.61  Female     No   Sun  Dinner     4\n",
       "  5         25.29  4.71    Male     No   Sun  Dinner     4\n",
       "  7         26.88  3.12    Male     No   Sun  Dinner     4\n",
       "  11        35.26  5.00  Female     No   Sun  Dinner     4\n",
       "  13        18.43  3.00    Male     No   Sun  Dinner     4\n",
       "  23        39.42  7.58    Male     No   Sat  Dinner     4\n",
       "  25        17.81  2.34    Male     No   Sat  Dinner     4\n",
       "  31        18.35  2.50    Male     No   Sat  Dinner     4\n",
       "  33        20.69  2.45  Female     No   Sat  Dinner     4\n",
       "  44        30.40  5.60    Male     No   Sun  Dinner     4\n",
       "  47        32.40  6.00    Male     No   Sun  Dinner     4\n",
       "  52        34.81  5.20  Female     No   Sun  Dinner     4\n",
       "  54        25.56  4.34    Male     No   Sun  Dinner     4\n",
       "  56        38.01  3.00    Male    Yes   Sat  Dinner     4\n",
       "  59        48.27  6.73    Male     No   Sat  Dinner     4\n",
       "  63        18.29  3.76    Male    Yes   Sat  Dinner     4\n",
       "  77        27.20  4.00    Male     No  Thur   Lunch     4\n",
       "  85        34.83  5.17  Female     No  Thur   Lunch     4\n",
       "  95        40.17  4.73    Male    Yes   Fri  Dinner     4\n",
       "  116       29.93  5.07    Male     No   Sun  Dinner     4\n",
       "  119       24.08  2.92  Female     No  Thur   Lunch     4\n",
       "  153       24.55  2.00    Male     No   Sun  Dinner     4\n",
       "  154       19.77  2.00    Male     No   Sun  Dinner     4\n",
       "  157       25.00  3.75  Female     No   Sun  Dinner     4\n",
       "  159       16.49  2.00    Male     No   Sun  Dinner     4\n",
       "  160       21.50  3.50    Male     No   Sun  Dinner     4\n",
       "  167       31.71  4.50    Male     No   Sun  Dinner     4\n",
       "  180       34.65  3.68    Male    Yes   Sun  Dinner     4\n",
       "  183       23.17  6.50    Male    Yes   Sun  Dinner     4\n",
       "  197       43.11  5.00  Female    Yes  Thur   Lunch     4\n",
       "  204       20.53  4.00    Male    Yes  Thur   Lunch     4\n",
       "  207       38.73  3.00    Male    Yes   Sat  Dinner     4\n",
       "  211       25.89  5.16    Male    Yes   Sat  Dinner     4\n",
       "  212       48.33  9.00    Male     No   Sat  Dinner     4\n",
       "  219       30.14  3.09  Female    Yes   Sat  Dinner     4\n",
       "  227       20.45  3.00    Male     No   Sat  Dinner     4\n",
       "  230       24.01  2.00    Male    Yes   Sat  Dinner     4),\n",
       " (5,      total_bill   tip     sex smoker   day    time  size\n",
       "  142       41.19  5.00    Male     No  Thur   Lunch     5\n",
       "  155       29.85  5.14  Female     No   Sun  Dinner     5\n",
       "  185       20.69  5.00    Male     No   Sun  Dinner     5\n",
       "  187       30.46  2.00    Male    Yes   Sun  Dinner     5\n",
       "  216       28.15  3.00    Male    Yes   Sat  Dinner     5),\n",
       " (6,      total_bill  tip     sex smoker   day    time  size\n",
       "  125       29.80  4.2  Female     No  Thur   Lunch     6\n",
       "  141       34.30  6.7    Male     No  Thur   Lunch     6\n",
       "  143       27.05  5.0  Female     No  Thur   Lunch     6\n",
       "  156       48.17  5.0    Male     No   Sun  Dinner     6)]"
      ]
     },
     "execution_count": 10,
     "metadata": {},
     "output_type": "execute_result"
    }
   ],
   "source": [
    "# If we coerce it to a list, we see something interesting: \n",
    "# It's basically a list of tuples! \n",
    "# The first element is the \"category\" variable, the second\n",
    "# is a datafame. \n",
    "\n",
    "list(by_size)\n"
   ]
  },
  {
   "cell_type": "markdown",
   "metadata": {},
   "source": [
    "here we have a bunch of little dataframes. we can iterate over them"
   ]
  },
  {
   "cell_type": "code",
   "execution_count": 11,
   "metadata": {},
   "outputs": [
    {
     "name": "stdout",
     "output_type": "stream",
     "text": [
      "Female\n",
      "total_bill    18.056897\n",
      "tip            2.833448\n",
      "size           2.459770\n",
      "dtype: float64\n",
      "Male\n",
      "total_bill    20.744076\n",
      "tip            3.089618\n",
      "size           2.630573\n",
      "dtype: float64\n"
     ]
    }
   ],
   "source": [
    "# We can iterate through the groupby just like we would a list of tuples!\n",
    "\n",
    "\n",
    "for sex,data in tips.groupby(\"sex\"):\n",
    "    print(sex)\n",
    "    print(data.mean()) #here we print out the mean of the dataframe"
   ]
  },
  {
   "cell_type": "markdown",
   "metadata": {
    "slideshow": {
     "slide_type": "slide"
    }
   },
   "source": [
    "## Why do we groupby? \n",
    "\n",
    "We group by to perform _some_ operation on each group. To _map_ over the groups, applying a function to each element! \n",
    "\n",
    "Very often this function is itself an aggregation (reduction). We want to somehow aggregate each group into a value or set of values that _describe_ the group!\n",
    "\n",
    "How do we apply functions to each element of a groupby? We use a handy method called \".apply\"!"
   ]
  },
  {
   "cell_type": "code",
   "execution_count": 12,
   "metadata": {},
   "outputs": [
    {
     "data": {
      "text/plain": [
       "sex\n",
       "Female    44.30\n",
       "Male      50.81\n",
       "dtype: float64"
      ]
     },
     "execution_count": 12,
     "metadata": {},
     "output_type": "execute_result"
    }
   ],
   "source": [
    "# Get the maximum bill by gender: \n",
    "\n",
    "def max_bill(df):\n",
    "    return df.total_bill.max()\n",
    "\n",
    "tips.groupby(\"sex\").apply(max_bill)\n",
    "\n",
    "#in a dataframe, map is called apply\n",
    "\n",
    "#in this case we return a single value. index is the sex, value is the max amount those individuals spent"
   ]
  },
  {
   "cell_type": "code",
   "execution_count": null,
   "metadata": {},
   "outputs": [],
   "source": []
  },
  {
   "cell_type": "code",
   "execution_count": 13,
   "metadata": {},
   "outputs": [
    {
     "data": {
      "text/html": [
       "<div>\n",
       "<style scoped>\n",
       "    .dataframe tbody tr th:only-of-type {\n",
       "        vertical-align: middle;\n",
       "    }\n",
       "\n",
       "    .dataframe tbody tr th {\n",
       "        vertical-align: top;\n",
       "    }\n",
       "\n",
       "    .dataframe thead th {\n",
       "        text-align: right;\n",
       "    }\n",
       "</style>\n",
       "<table border=\"1\" class=\"dataframe\">\n",
       "  <thead>\n",
       "    <tr style=\"text-align: right;\">\n",
       "      <th></th>\n",
       "      <th>total_bill</th>\n",
       "      <th>tip</th>\n",
       "      <th>sex</th>\n",
       "      <th>smoker</th>\n",
       "      <th>day</th>\n",
       "      <th>time</th>\n",
       "      <th>size</th>\n",
       "    </tr>\n",
       "    <tr>\n",
       "      <th>sex</th>\n",
       "      <th></th>\n",
       "      <th></th>\n",
       "      <th></th>\n",
       "      <th></th>\n",
       "      <th></th>\n",
       "      <th></th>\n",
       "      <th></th>\n",
       "    </tr>\n",
       "  </thead>\n",
       "  <tbody>\n",
       "    <tr>\n",
       "      <td>Female</td>\n",
       "      <td>43.11</td>\n",
       "      <td>5.0</td>\n",
       "      <td>Female</td>\n",
       "      <td>Yes</td>\n",
       "      <td>Thur</td>\n",
       "      <td>Lunch</td>\n",
       "      <td>4</td>\n",
       "    </tr>\n",
       "    <tr>\n",
       "      <td>Male</td>\n",
       "      <td>48.33</td>\n",
       "      <td>9.0</td>\n",
       "      <td>Male</td>\n",
       "      <td>No</td>\n",
       "      <td>Sat</td>\n",
       "      <td>Dinner</td>\n",
       "      <td>4</td>\n",
       "    </tr>\n",
       "  </tbody>\n",
       "</table>\n",
       "</div>"
      ],
      "text/plain": [
       "        total_bill  tip     sex smoker   day    time  size\n",
       "sex                                                       \n",
       "Female       43.11  5.0  Female    Yes  Thur   Lunch     4\n",
       "Male         48.33  9.0    Male     No   Sat  Dinner     4"
      ]
     },
     "execution_count": 13,
     "metadata": {},
     "output_type": "execute_result"
    }
   ],
   "source": [
    "# Challenge: \n",
    "\n",
    "# Get the second largest bill by gender!\n",
    "# HINT: use sort_values and iloc!\n",
    "\n",
    "\n",
    "\n",
    "\n",
    "def second_max_bill(df):\n",
    "    return df.sort_values('total_bill',ascending=False).iloc[1]\n",
    "\n",
    "tips.groupby(\"sex\").apply(second_max_bill)\n",
    "\n",
    "# group_by_sex = tips.groupby(\"sex\")\n",
    "# group_by_sex\n",
    "\n",
    "# tips.sort_values('tip', ascending=False).iloc[1]"
   ]
  },
  {
   "cell_type": "markdown",
   "metadata": {},
   "source": [
    "## Built-in Aggregations in groupby\n",
    "\n",
    "Many aggregation functions that exist on Series and DataFrames (mean, max, min, etc.) can be called directly via the groupby object: \n",
    "\n",
    "```python\n",
    "tips.groupby(\"sex\").max()\n",
    "tips.groupby(\"sex\").mean()\n",
    "```"
   ]
  },
  {
   "cell_type": "code",
   "execution_count": 26,
   "metadata": {},
   "outputs": [
    {
     "data": {
      "text/html": [
       "<div>\n",
       "<style scoped>\n",
       "    .dataframe tbody tr th:only-of-type {\n",
       "        vertical-align: middle;\n",
       "    }\n",
       "\n",
       "    .dataframe tbody tr th {\n",
       "        vertical-align: top;\n",
       "    }\n",
       "\n",
       "    .dataframe thead th {\n",
       "        text-align: right;\n",
       "    }\n",
       "</style>\n",
       "<table border=\"1\" class=\"dataframe\">\n",
       "  <thead>\n",
       "    <tr style=\"text-align: right;\">\n",
       "      <th></th>\n",
       "      <th>total_bill</th>\n",
       "      <th>tip</th>\n",
       "      <th>size</th>\n",
       "    </tr>\n",
       "    <tr>\n",
       "      <th>sex</th>\n",
       "      <th></th>\n",
       "      <th></th>\n",
       "      <th></th>\n",
       "    </tr>\n",
       "  </thead>\n",
       "  <tbody>\n",
       "    <tr>\n",
       "      <td>Female</td>\n",
       "      <td>18.056897</td>\n",
       "      <td>2.833448</td>\n",
       "      <td>2.459770</td>\n",
       "    </tr>\n",
       "    <tr>\n",
       "      <td>Male</td>\n",
       "      <td>20.744076</td>\n",
       "      <td>3.089618</td>\n",
       "      <td>2.630573</td>\n",
       "    </tr>\n",
       "  </tbody>\n",
       "</table>\n",
       "</div>"
      ],
      "text/plain": [
       "        total_bill       tip      size\n",
       "sex                                   \n",
       "Female   18.056897  2.833448  2.459770\n",
       "Male     20.744076  3.089618  2.630573"
      ]
     },
     "execution_count": 26,
     "metadata": {},
     "output_type": "execute_result"
    }
   ],
   "source": [
    "tips.groupby(\"sex\").max()\n",
    "tips.groupby(\"sex\").mean()"
   ]
  },
  {
   "cell_type": "code",
   "execution_count": 27,
   "metadata": {},
   "outputs": [
    {
     "data": {
      "text/html": [
       "<div>\n",
       "<style scoped>\n",
       "    .dataframe tbody tr th:only-of-type {\n",
       "        vertical-align: middle;\n",
       "    }\n",
       "\n",
       "    .dataframe tbody tr th {\n",
       "        vertical-align: top;\n",
       "    }\n",
       "\n",
       "    .dataframe thead th {\n",
       "        text-align: right;\n",
       "    }\n",
       "</style>\n",
       "<table border=\"1\" class=\"dataframe\">\n",
       "  <thead>\n",
       "    <tr style=\"text-align: right;\">\n",
       "      <th></th>\n",
       "      <th>total_bill</th>\n",
       "      <th>tip</th>\n",
       "      <th>sex</th>\n",
       "      <th>smoker</th>\n",
       "      <th>day</th>\n",
       "      <th>time</th>\n",
       "      <th>size</th>\n",
       "    </tr>\n",
       "    <tr>\n",
       "      <th>sex</th>\n",
       "      <th></th>\n",
       "      <th></th>\n",
       "      <th></th>\n",
       "      <th></th>\n",
       "      <th></th>\n",
       "      <th></th>\n",
       "      <th></th>\n",
       "    </tr>\n",
       "  </thead>\n",
       "  <tbody>\n",
       "    <tr>\n",
       "      <td>Female</td>\n",
       "      <td>44.30</td>\n",
       "      <td>6.5</td>\n",
       "      <td>Female</td>\n",
       "      <td>Yes</td>\n",
       "      <td>Thur</td>\n",
       "      <td>Lunch</td>\n",
       "      <td>6</td>\n",
       "    </tr>\n",
       "    <tr>\n",
       "      <td>Male</td>\n",
       "      <td>50.81</td>\n",
       "      <td>10.0</td>\n",
       "      <td>Male</td>\n",
       "      <td>Yes</td>\n",
       "      <td>Thur</td>\n",
       "      <td>Lunch</td>\n",
       "      <td>6</td>\n",
       "    </tr>\n",
       "  </tbody>\n",
       "</table>\n",
       "</div>"
      ],
      "text/plain": [
       "        total_bill   tip     sex smoker   day   time  size\n",
       "sex                                                       \n",
       "Female       44.30   6.5  Female    Yes  Thur  Lunch     6\n",
       "Male         50.81  10.0    Male    Yes  Thur  Lunch     6"
      ]
     },
     "execution_count": 27,
     "metadata": {},
     "output_type": "execute_result"
    }
   ],
   "source": [
    "#written in the same way, with a apply lambda\n",
    "tips.groupby(\"sex\").apply(lambda df: df.max())"
   ]
  },
  {
   "cell_type": "code",
   "execution_count": 29,
   "metadata": {},
   "outputs": [
    {
     "data": {
      "text/html": [
       "<div>\n",
       "<style scoped>\n",
       "    .dataframe tbody tr th:only-of-type {\n",
       "        vertical-align: middle;\n",
       "    }\n",
       "\n",
       "    .dataframe tbody tr th {\n",
       "        vertical-align: top;\n",
       "    }\n",
       "\n",
       "    .dataframe thead th {\n",
       "        text-align: right;\n",
       "    }\n",
       "</style>\n",
       "<table border=\"1\" class=\"dataframe\">\n",
       "  <thead>\n",
       "    <tr style=\"text-align: right;\">\n",
       "      <th></th>\n",
       "      <th>total_bill</th>\n",
       "      <th>tip</th>\n",
       "      <th>size</th>\n",
       "    </tr>\n",
       "    <tr>\n",
       "      <th>day</th>\n",
       "      <th></th>\n",
       "      <th></th>\n",
       "      <th></th>\n",
       "    </tr>\n",
       "  </thead>\n",
       "  <tbody>\n",
       "    <tr>\n",
       "      <td>Fri</td>\n",
       "      <td>17.151579</td>\n",
       "      <td>2.734737</td>\n",
       "      <td>2.105263</td>\n",
       "    </tr>\n",
       "    <tr>\n",
       "      <td>Sat</td>\n",
       "      <td>20.441379</td>\n",
       "      <td>2.993103</td>\n",
       "      <td>2.517241</td>\n",
       "    </tr>\n",
       "    <tr>\n",
       "      <td>Sun</td>\n",
       "      <td>21.410000</td>\n",
       "      <td>3.255132</td>\n",
       "      <td>2.842105</td>\n",
       "    </tr>\n",
       "    <tr>\n",
       "      <td>Thur</td>\n",
       "      <td>17.682742</td>\n",
       "      <td>2.771452</td>\n",
       "      <td>2.451613</td>\n",
       "    </tr>\n",
       "  </tbody>\n",
       "</table>\n",
       "</div>"
      ],
      "text/plain": [
       "      total_bill       tip      size\n",
       "day                                 \n",
       "Fri    17.151579  2.734737  2.105263\n",
       "Sat    20.441379  2.993103  2.517241\n",
       "Sun    21.410000  3.255132  2.842105\n",
       "Thur   17.682742  2.771452  2.451613"
      ]
     },
     "execution_count": 29,
     "metadata": {},
     "output_type": "execute_result"
    }
   ],
   "source": [
    "# Challenge: \n",
    "# What is the mean tip, per day, for male vs. female?\n",
    "\n",
    "\n",
    "def day_mean(df):\n",
    "    return df.mean()\n",
    "    # Hint: you will need to group by \"day\"\n",
    "    # in this function, then get the mean tip. \n",
    "    pass\n",
    "\n",
    "\n",
    "tips.groupby(['day']).apply(day_mean)"
   ]
  },
  {
   "cell_type": "code",
   "execution_count": null,
   "metadata": {},
   "outputs": [],
   "source": [
    "def second_max_bill(df):\n",
    "    return df.sort_values('total_bill',ascending=False).iloc[1]\n",
    "\n",
    "tips.groupby(\"sex\").apply(second_max_bill)"
   ]
  },
  {
   "cell_type": "code",
   "execution_count": 30,
   "metadata": {},
   "outputs": [
    {
     "data": {
      "text/html": [
       "<div>\n",
       "<style scoped>\n",
       "    .dataframe tbody tr th:only-of-type {\n",
       "        vertical-align: middle;\n",
       "    }\n",
       "\n",
       "    .dataframe tbody tr th {\n",
       "        vertical-align: top;\n",
       "    }\n",
       "\n",
       "    .dataframe thead th {\n",
       "        text-align: right;\n",
       "    }\n",
       "</style>\n",
       "<table border=\"1\" class=\"dataframe\">\n",
       "  <thead>\n",
       "    <tr style=\"text-align: right;\">\n",
       "      <th></th>\n",
       "      <th></th>\n",
       "      <th></th>\n",
       "      <th>total_bill</th>\n",
       "      <th>size</th>\n",
       "    </tr>\n",
       "    <tr>\n",
       "      <th>sex</th>\n",
       "      <th>day</th>\n",
       "      <th>tip</th>\n",
       "      <th></th>\n",
       "      <th></th>\n",
       "    </tr>\n",
       "  </thead>\n",
       "  <tbody>\n",
       "    <tr>\n",
       "      <td rowspan=\"5\" valign=\"top\">Female</td>\n",
       "      <td rowspan=\"5\" valign=\"top\">Fri</td>\n",
       "      <td>1.00</td>\n",
       "      <td>5.750</td>\n",
       "      <td>2.0</td>\n",
       "    </tr>\n",
       "    <tr>\n",
       "      <td>2.00</td>\n",
       "      <td>10.090</td>\n",
       "      <td>2.0</td>\n",
       "    </tr>\n",
       "    <tr>\n",
       "      <td>2.50</td>\n",
       "      <td>13.810</td>\n",
       "      <td>2.0</td>\n",
       "    </tr>\n",
       "    <tr>\n",
       "      <td>3.00</td>\n",
       "      <td>15.680</td>\n",
       "      <td>2.5</td>\n",
       "    </tr>\n",
       "    <tr>\n",
       "      <td>3.25</td>\n",
       "      <td>22.750</td>\n",
       "      <td>2.0</td>\n",
       "    </tr>\n",
       "    <tr>\n",
       "      <td>...</td>\n",
       "      <td>...</td>\n",
       "      <td>...</td>\n",
       "      <td>...</td>\n",
       "      <td>...</td>\n",
       "    </tr>\n",
       "    <tr>\n",
       "      <td rowspan=\"5\" valign=\"top\">Male</td>\n",
       "      <td rowspan=\"5\" valign=\"top\">Thur</td>\n",
       "      <td>3.40</td>\n",
       "      <td>16.660</td>\n",
       "      <td>2.0</td>\n",
       "    </tr>\n",
       "    <tr>\n",
       "      <td>4.00</td>\n",
       "      <td>20.260</td>\n",
       "      <td>3.0</td>\n",
       "    </tr>\n",
       "    <tr>\n",
       "      <td>5.00</td>\n",
       "      <td>36.935</td>\n",
       "      <td>3.5</td>\n",
       "    </tr>\n",
       "    <tr>\n",
       "      <td>5.85</td>\n",
       "      <td>24.710</td>\n",
       "      <td>2.0</td>\n",
       "    </tr>\n",
       "    <tr>\n",
       "      <td>6.70</td>\n",
       "      <td>34.300</td>\n",
       "      <td>6.0</td>\n",
       "    </tr>\n",
       "  </tbody>\n",
       "</table>\n",
       "<p>176 rows × 2 columns</p>\n",
       "</div>"
      ],
      "text/plain": [
       "                  total_bill  size\n",
       "sex    day  tip                   \n",
       "Female Fri  1.00       5.750   2.0\n",
       "            2.00      10.090   2.0\n",
       "            2.50      13.810   2.0\n",
       "            3.00      15.680   2.5\n",
       "            3.25      22.750   2.0\n",
       "...                      ...   ...\n",
       "Male   Thur 3.40      16.660   2.0\n",
       "            4.00      20.260   3.0\n",
       "            5.00      36.935   3.5\n",
       "            5.85      24.710   2.0\n",
       "            6.70      34.300   6.0\n",
       "\n",
       "[176 rows x 2 columns]"
      ]
     },
     "execution_count": 30,
     "metadata": {},
     "output_type": "execute_result"
    }
   ],
   "source": [
    "tips.groupby(['sex', 'day', 'tip']).mean()\n",
    "\n",
    "#print(tips.groupby('sex').max())"
   ]
  },
  {
   "cell_type": "code",
   "execution_count": 16,
   "metadata": {},
   "outputs": [
    {
     "data": {
      "text/html": [
       "<div>\n",
       "<style scoped>\n",
       "    .dataframe tbody tr th:only-of-type {\n",
       "        vertical-align: middle;\n",
       "    }\n",
       "\n",
       "    .dataframe tbody tr th {\n",
       "        vertical-align: top;\n",
       "    }\n",
       "\n",
       "    .dataframe thead th {\n",
       "        text-align: right;\n",
       "    }\n",
       "</style>\n",
       "<table border=\"1\" class=\"dataframe\">\n",
       "  <thead>\n",
       "    <tr style=\"text-align: right;\">\n",
       "      <th></th>\n",
       "      <th>total_bill</th>\n",
       "      <th>tip</th>\n",
       "      <th>size</th>\n",
       "    </tr>\n",
       "    <tr>\n",
       "      <th>day</th>\n",
       "      <th></th>\n",
       "      <th></th>\n",
       "      <th></th>\n",
       "    </tr>\n",
       "  </thead>\n",
       "  <tbody>\n",
       "    <tr>\n",
       "      <td>Fri</td>\n",
       "      <td>17.151579</td>\n",
       "      <td>2.734737</td>\n",
       "      <td>2.105263</td>\n",
       "    </tr>\n",
       "    <tr>\n",
       "      <td>Sat</td>\n",
       "      <td>20.441379</td>\n",
       "      <td>2.993103</td>\n",
       "      <td>2.517241</td>\n",
       "    </tr>\n",
       "    <tr>\n",
       "      <td>Sun</td>\n",
       "      <td>21.410000</td>\n",
       "      <td>3.255132</td>\n",
       "      <td>2.842105</td>\n",
       "    </tr>\n",
       "    <tr>\n",
       "      <td>Thur</td>\n",
       "      <td>17.682742</td>\n",
       "      <td>2.771452</td>\n",
       "      <td>2.451613</td>\n",
       "    </tr>\n",
       "  </tbody>\n",
       "</table>\n",
       "</div>"
      ],
      "text/plain": [
       "      total_bill       tip      size\n",
       "day                                 \n",
       "Fri    17.151579  2.734737  2.105263\n",
       "Sat    20.441379  2.993103  2.517241\n",
       "Sun    21.410000  3.255132  2.842105\n",
       "Thur   17.682742  2.771452  2.451613"
      ]
     },
     "execution_count": 16,
     "metadata": {},
     "output_type": "execute_result"
    }
   ],
   "source": [
    "tips.groupby('day').mean()"
   ]
  },
  {
   "cell_type": "markdown",
   "metadata": {},
   "source": [
    "in example below, make sure it works for the first part\n",
    "\n",
    "return tips.groupby('day').tip.mean()\n",
    "\n",
    "this should also give us a series\n",
    "\n",
    "then do the bottom part\n"
   ]
  },
  {
   "cell_type": "code",
   "execution_count": 32,
   "metadata": {},
   "outputs": [
    {
     "data": {
      "text/html": [
       "<div>\n",
       "<style scoped>\n",
       "    .dataframe tbody tr th:only-of-type {\n",
       "        vertical-align: middle;\n",
       "    }\n",
       "\n",
       "    .dataframe tbody tr th {\n",
       "        vertical-align: top;\n",
       "    }\n",
       "\n",
       "    .dataframe thead th {\n",
       "        text-align: right;\n",
       "    }\n",
       "</style>\n",
       "<table border=\"1\" class=\"dataframe\">\n",
       "  <thead>\n",
       "    <tr style=\"text-align: right;\">\n",
       "      <th>day</th>\n",
       "      <th>Fri</th>\n",
       "      <th>Sat</th>\n",
       "      <th>Sun</th>\n",
       "      <th>Thur</th>\n",
       "    </tr>\n",
       "    <tr>\n",
       "      <th>sex</th>\n",
       "      <th></th>\n",
       "      <th></th>\n",
       "      <th></th>\n",
       "      <th></th>\n",
       "    </tr>\n",
       "  </thead>\n",
       "  <tbody>\n",
       "    <tr>\n",
       "      <td>Female</td>\n",
       "      <td>2.734737</td>\n",
       "      <td>2.993103</td>\n",
       "      <td>3.255132</td>\n",
       "      <td>2.771452</td>\n",
       "    </tr>\n",
       "    <tr>\n",
       "      <td>Male</td>\n",
       "      <td>2.734737</td>\n",
       "      <td>2.993103</td>\n",
       "      <td>3.255132</td>\n",
       "      <td>2.771452</td>\n",
       "    </tr>\n",
       "  </tbody>\n",
       "</table>\n",
       "</div>"
      ],
      "text/plain": [
       "day          Fri       Sat       Sun      Thur\n",
       "sex                                           \n",
       "Female  2.734737  2.993103  3.255132  2.771452\n",
       "Male    2.734737  2.993103  3.255132  2.771452"
      ]
     },
     "execution_count": 32,
     "metadata": {},
     "output_type": "execute_result"
    }
   ],
   "source": [
    "def day_mean(df):\n",
    "    return tips.groupby('day').tip.mean()\n",
    "    # Hint: you will need to group by \"day\"\n",
    "    # in this function, then get the mean tip. \n",
    "    pass\n",
    "\n",
    "\n",
    "tips.groupby([\"sex\"]).apply(day_mean)"
   ]
  },
  {
   "cell_type": "markdown",
   "metadata": {},
   "source": [
    "\n",
    "# Multiple Groupby!\n",
    "\n",
    "That groupby induction that we just performed, it's quite a common use-case! So there's an even easier way to do it in Pandas. \n",
    "\n",
    "We can group by more than one column! \n",
    "\n",
    "For example the task we accomplished above could also be derived as: \n",
    "\n",
    "```python\n",
    "tips.groupby([\"sex\",\"day\"]).tip.mean()\n",
    "```"
   ]
  },
  {
   "cell_type": "code",
   "execution_count": 33,
   "metadata": {},
   "outputs": [
    {
     "data": {
      "text/plain": [
       "[(('Female', 'Fri'),      total_bill   tip     sex smoker  day    time  size\n",
       "  92         5.75  1.00  Female    Yes  Fri  Dinner     2\n",
       "  93        16.32  4.30  Female    Yes  Fri  Dinner     2\n",
       "  94        22.75  3.25  Female     No  Fri  Dinner     2\n",
       "  100       11.35  2.50  Female    Yes  Fri  Dinner     2\n",
       "  101       15.38  3.00  Female    Yes  Fri  Dinner     2\n",
       "  221       13.42  3.48  Female    Yes  Fri   Lunch     2\n",
       "  223       15.98  3.00  Female     No  Fri   Lunch     3\n",
       "  225       16.27  2.50  Female    Yes  Fri   Lunch     2\n",
       "  226       10.09  2.00  Female    Yes  Fri   Lunch     2),\n",
       " (('Female', 'Sat'),      total_bill   tip     sex smoker  day    time  size\n",
       "  21        20.29  2.75  Female     No  Sat  Dinner     2\n",
       "  22        15.77  2.23  Female     No  Sat  Dinner     2\n",
       "  29        19.65  3.00  Female     No  Sat  Dinner     2\n",
       "  32        15.06  3.00  Female     No  Sat  Dinner     2\n",
       "  33        20.69  2.45  Female     No  Sat  Dinner     4\n",
       "  37        16.93  3.07  Female     No  Sat  Dinner     3\n",
       "  57        26.41  1.50  Female     No  Sat  Dinner     2\n",
       "  66        16.45  2.47  Female     No  Sat  Dinner     2\n",
       "  67         3.07  1.00  Female    Yes  Sat  Dinner     1\n",
       "  71        17.07  3.00  Female     No  Sat  Dinner     3\n",
       "  72        26.86  3.14  Female    Yes  Sat  Dinner     2\n",
       "  73        25.28  5.00  Female    Yes  Sat  Dinner     2\n",
       "  74        14.73  2.20  Female     No  Sat  Dinner     2\n",
       "  102       44.30  2.50  Female    Yes  Sat  Dinner     3\n",
       "  103       22.42  3.48  Female    Yes  Sat  Dinner     2\n",
       "  104       20.92  4.08  Female     No  Sat  Dinner     2\n",
       "  109       14.31  4.00  Female    Yes  Sat  Dinner     2\n",
       "  111        7.25  1.00  Female     No  Sat  Dinner     1\n",
       "  168       10.59  1.61  Female    Yes  Sat  Dinner     2\n",
       "  169       10.63  2.00  Female    Yes  Sat  Dinner     2\n",
       "  209       12.76  2.23  Female    Yes  Sat  Dinner     2\n",
       "  213       13.27  2.50  Female    Yes  Sat  Dinner     2\n",
       "  214       28.17  6.50  Female    Yes  Sat  Dinner     3\n",
       "  215       12.90  1.10  Female    Yes  Sat  Dinner     2\n",
       "  219       30.14  3.09  Female    Yes  Sat  Dinner     4\n",
       "  229       22.12  2.88  Female    Yes  Sat  Dinner     2\n",
       "  238       35.83  4.67  Female     No  Sat  Dinner     3\n",
       "  240       27.18  2.00  Female    Yes  Sat  Dinner     2),\n",
       " (('Female', 'Sun'),      total_bill   tip     sex smoker  day    time  size\n",
       "  0         16.99  1.01  Female     No  Sun  Dinner     2\n",
       "  4         24.59  3.61  Female     No  Sun  Dinner     4\n",
       "  11        35.26  5.00  Female     No  Sun  Dinner     4\n",
       "  14        14.83  3.02  Female     No  Sun  Dinner     2\n",
       "  16        10.33  1.67  Female     No  Sun  Dinner     3\n",
       "  18        16.97  3.50  Female     No  Sun  Dinner     3\n",
       "  51        10.29  2.60  Female     No  Sun  Dinner     2\n",
       "  52        34.81  5.20  Female     No  Sun  Dinner     4\n",
       "  114       25.71  4.00  Female     No  Sun  Dinner     3\n",
       "  115       17.31  3.50  Female     No  Sun  Dinner     2\n",
       "  155       29.85  5.14  Female     No  Sun  Dinner     5\n",
       "  157       25.00  3.75  Female     No  Sun  Dinner     4\n",
       "  158       13.39  2.61  Female     No  Sun  Dinner     2\n",
       "  162       16.21  2.00  Female     No  Sun  Dinner     3\n",
       "  164       17.51  3.00  Female    Yes  Sun  Dinner     2\n",
       "  178        9.60  4.00  Female    Yes  Sun  Dinner     2\n",
       "  186       20.90  3.50  Female    Yes  Sun  Dinner     3\n",
       "  188       18.15  3.50  Female    Yes  Sun  Dinner     3),\n",
       " (('Female', 'Thur'),      total_bill   tip     sex smoker   day    time  size\n",
       "  82        10.07  1.83  Female     No  Thur   Lunch     1\n",
       "  85        34.83  5.17  Female     No  Thur   Lunch     4\n",
       "  117       10.65  1.50  Female     No  Thur   Lunch     2\n",
       "  118       12.43  1.80  Female     No  Thur   Lunch     2\n",
       "  119       24.08  2.92  Female     No  Thur   Lunch     4\n",
       "  121       13.42  1.68  Female     No  Thur   Lunch     2\n",
       "  124       12.48  2.52  Female     No  Thur   Lunch     2\n",
       "  125       29.80  4.20  Female     No  Thur   Lunch     6\n",
       "  127       14.52  2.00  Female     No  Thur   Lunch     2\n",
       "  128       11.38  2.00  Female     No  Thur   Lunch     2\n",
       "  131       20.27  2.83  Female     No  Thur   Lunch     2\n",
       "  132       11.17  1.50  Female     No  Thur   Lunch     2\n",
       "  133       12.26  2.00  Female     No  Thur   Lunch     2\n",
       "  134       18.26  3.25  Female     No  Thur   Lunch     2\n",
       "  135        8.51  1.25  Female     No  Thur   Lunch     2\n",
       "  136       10.33  2.00  Female     No  Thur   Lunch     2\n",
       "  137       14.15  2.00  Female     No  Thur   Lunch     2\n",
       "  139       13.16  2.75  Female     No  Thur   Lunch     2\n",
       "  140       17.47  3.50  Female     No  Thur   Lunch     2\n",
       "  143       27.05  5.00  Female     No  Thur   Lunch     6\n",
       "  144       16.43  2.30  Female     No  Thur   Lunch     2\n",
       "  145        8.35  1.50  Female     No  Thur   Lunch     2\n",
       "  146       18.64  1.36  Female     No  Thur   Lunch     3\n",
       "  147       11.87  1.63  Female     No  Thur   Lunch     2\n",
       "  191       19.81  4.19  Female    Yes  Thur   Lunch     2\n",
       "  197       43.11  5.00  Female    Yes  Thur   Lunch     4\n",
       "  198       13.00  2.00  Female    Yes  Thur   Lunch     2\n",
       "  201       12.74  2.01  Female    Yes  Thur   Lunch     2\n",
       "  202       13.00  2.00  Female    Yes  Thur   Lunch     2\n",
       "  203       16.40  2.50  Female    Yes  Thur   Lunch     2\n",
       "  205       16.47  3.23  Female    Yes  Thur   Lunch     3\n",
       "  243       18.78  3.00  Female     No  Thur  Dinner     2),\n",
       " (('Male', 'Fri'),      total_bill   tip   sex smoker  day    time  size\n",
       "  90        28.97  3.00  Male    Yes  Fri  Dinner     2\n",
       "  91        22.49  3.50  Male     No  Fri  Dinner     2\n",
       "  95        40.17  4.73  Male    Yes  Fri  Dinner     4\n",
       "  96        27.28  4.00  Male    Yes  Fri  Dinner     2\n",
       "  97        12.03  1.50  Male    Yes  Fri  Dinner     2\n",
       "  98        21.01  3.00  Male    Yes  Fri  Dinner     2\n",
       "  99        12.46  1.50  Male     No  Fri  Dinner     2\n",
       "  220       12.16  2.20  Male    Yes  Fri   Lunch     2\n",
       "  222        8.58  1.92  Male    Yes  Fri   Lunch     1\n",
       "  224       13.42  1.58  Male    Yes  Fri   Lunch     2),\n",
       " (('Male', 'Sat'),      total_bill    tip   sex smoker  day    time  size\n",
       "  19        20.65   3.35  Male     No  Sat  Dinner     3\n",
       "  20        17.92   4.08  Male     No  Sat  Dinner     2\n",
       "  23        39.42   7.58  Male     No  Sat  Dinner     4\n",
       "  24        19.82   3.18  Male     No  Sat  Dinner     2\n",
       "  25        17.81   2.34  Male     No  Sat  Dinner     4\n",
       "  26        13.37   2.00  Male     No  Sat  Dinner     2\n",
       "  27        12.69   2.00  Male     No  Sat  Dinner     2\n",
       "  28        21.70   4.30  Male     No  Sat  Dinner     2\n",
       "  30         9.55   1.45  Male     No  Sat  Dinner     2\n",
       "  31        18.35   2.50  Male     No  Sat  Dinner     4\n",
       "  34        17.78   3.27  Male     No  Sat  Dinner     2\n",
       "  35        24.06   3.60  Male     No  Sat  Dinner     3\n",
       "  36        16.31   2.00  Male     No  Sat  Dinner     3\n",
       "  38        18.69   2.31  Male     No  Sat  Dinner     3\n",
       "  39        31.27   5.00  Male     No  Sat  Dinner     3\n",
       "  40        16.04   2.24  Male     No  Sat  Dinner     3\n",
       "  56        38.01   3.00  Male    Yes  Sat  Dinner     4\n",
       "  58        11.24   1.76  Male    Yes  Sat  Dinner     2\n",
       "  59        48.27   6.73  Male     No  Sat  Dinner     4\n",
       "  60        20.29   3.21  Male    Yes  Sat  Dinner     2\n",
       "  61        13.81   2.00  Male    Yes  Sat  Dinner     2\n",
       "  62        11.02   1.98  Male    Yes  Sat  Dinner     2\n",
       "  63        18.29   3.76  Male    Yes  Sat  Dinner     4\n",
       "  64        17.59   2.64  Male     No  Sat  Dinner     3\n",
       "  65        20.08   3.15  Male     No  Sat  Dinner     3\n",
       "  68        20.23   2.01  Male     No  Sat  Dinner     2\n",
       "  69        15.01   2.09  Male    Yes  Sat  Dinner     2\n",
       "  70        12.02   1.97  Male     No  Sat  Dinner     2\n",
       "  75        10.51   1.25  Male     No  Sat  Dinner     2\n",
       "  76        17.92   3.08  Male    Yes  Sat  Dinner     2\n",
       "  105       15.36   1.64  Male    Yes  Sat  Dinner     2\n",
       "  106       20.49   4.06  Male    Yes  Sat  Dinner     2\n",
       "  107       25.21   4.29  Male    Yes  Sat  Dinner     2\n",
       "  108       18.24   3.76  Male     No  Sat  Dinner     2\n",
       "  110       14.00   3.00  Male     No  Sat  Dinner     2\n",
       "  170       50.81  10.00  Male    Yes  Sat  Dinner     3\n",
       "  171       15.81   3.16  Male    Yes  Sat  Dinner     2\n",
       "  206       26.59   3.41  Male    Yes  Sat  Dinner     3\n",
       "  207       38.73   3.00  Male    Yes  Sat  Dinner     4\n",
       "  208       24.27   2.03  Male    Yes  Sat  Dinner     2\n",
       "  210       30.06   2.00  Male    Yes  Sat  Dinner     3\n",
       "  211       25.89   5.16  Male    Yes  Sat  Dinner     4\n",
       "  212       48.33   9.00  Male     No  Sat  Dinner     4\n",
       "  216       28.15   3.00  Male    Yes  Sat  Dinner     5\n",
       "  217       11.59   1.50  Male    Yes  Sat  Dinner     2\n",
       "  218        7.74   1.44  Male    Yes  Sat  Dinner     2\n",
       "  227       20.45   3.00  Male     No  Sat  Dinner     4\n",
       "  228       13.28   2.72  Male     No  Sat  Dinner     2\n",
       "  230       24.01   2.00  Male    Yes  Sat  Dinner     4\n",
       "  231       15.69   3.00  Male    Yes  Sat  Dinner     3\n",
       "  232       11.61   3.39  Male     No  Sat  Dinner     2\n",
       "  233       10.77   1.47  Male     No  Sat  Dinner     2\n",
       "  234       15.53   3.00  Male    Yes  Sat  Dinner     2\n",
       "  235       10.07   1.25  Male     No  Sat  Dinner     2\n",
       "  236       12.60   1.00  Male    Yes  Sat  Dinner     2\n",
       "  237       32.83   1.17  Male    Yes  Sat  Dinner     2\n",
       "  239       29.03   5.92  Male     No  Sat  Dinner     3\n",
       "  241       22.67   2.00  Male    Yes  Sat  Dinner     2\n",
       "  242       17.82   1.75  Male     No  Sat  Dinner     2),\n",
       " (('Male', 'Sun'),      total_bill   tip   sex smoker  day    time  size\n",
       "  1         10.34  1.66  Male     No  Sun  Dinner     3\n",
       "  2         21.01  3.50  Male     No  Sun  Dinner     3\n",
       "  3         23.68  3.31  Male     No  Sun  Dinner     2\n",
       "  5         25.29  4.71  Male     No  Sun  Dinner     4\n",
       "  6          8.77  2.00  Male     No  Sun  Dinner     2\n",
       "  7         26.88  3.12  Male     No  Sun  Dinner     4\n",
       "  8         15.04  1.96  Male     No  Sun  Dinner     2\n",
       "  9         14.78  3.23  Male     No  Sun  Dinner     2\n",
       "  10        10.27  1.71  Male     No  Sun  Dinner     2\n",
       "  12        15.42  1.57  Male     No  Sun  Dinner     2\n",
       "  13        18.43  3.00  Male     No  Sun  Dinner     4\n",
       "  15        21.58  3.92  Male     No  Sun  Dinner     2\n",
       "  17        16.29  3.71  Male     No  Sun  Dinner     3\n",
       "  41        17.46  2.54  Male     No  Sun  Dinner     2\n",
       "  42        13.94  3.06  Male     No  Sun  Dinner     2\n",
       "  43         9.68  1.32  Male     No  Sun  Dinner     2\n",
       "  44        30.40  5.60  Male     No  Sun  Dinner     4\n",
       "  45        18.29  3.00  Male     No  Sun  Dinner     2\n",
       "  46        22.23  5.00  Male     No  Sun  Dinner     2\n",
       "  47        32.40  6.00  Male     No  Sun  Dinner     4\n",
       "  48        28.55  2.05  Male     No  Sun  Dinner     3\n",
       "  49        18.04  3.00  Male     No  Sun  Dinner     2\n",
       "  50        12.54  2.50  Male     No  Sun  Dinner     2\n",
       "  53         9.94  1.56  Male     No  Sun  Dinner     2\n",
       "  54        25.56  4.34  Male     No  Sun  Dinner     4\n",
       "  55        19.49  3.51  Male     No  Sun  Dinner     2\n",
       "  112       38.07  4.00  Male     No  Sun  Dinner     3\n",
       "  113       23.95  2.55  Male     No  Sun  Dinner     2\n",
       "  116       29.93  5.07  Male     No  Sun  Dinner     4\n",
       "  150       14.07  2.50  Male     No  Sun  Dinner     2\n",
       "  151       13.13  2.00  Male     No  Sun  Dinner     2\n",
       "  152       17.26  2.74  Male     No  Sun  Dinner     3\n",
       "  153       24.55  2.00  Male     No  Sun  Dinner     4\n",
       "  154       19.77  2.00  Male     No  Sun  Dinner     4\n",
       "  156       48.17  5.00  Male     No  Sun  Dinner     6\n",
       "  159       16.49  2.00  Male     No  Sun  Dinner     4\n",
       "  160       21.50  3.50  Male     No  Sun  Dinner     4\n",
       "  161       12.66  2.50  Male     No  Sun  Dinner     2\n",
       "  163       13.81  2.00  Male     No  Sun  Dinner     2\n",
       "  165       24.52  3.48  Male     No  Sun  Dinner     3\n",
       "  166       20.76  2.24  Male     No  Sun  Dinner     2\n",
       "  167       31.71  4.50  Male     No  Sun  Dinner     4\n",
       "  172        7.25  5.15  Male    Yes  Sun  Dinner     2\n",
       "  173       31.85  3.18  Male    Yes  Sun  Dinner     2\n",
       "  174       16.82  4.00  Male    Yes  Sun  Dinner     2\n",
       "  175       32.90  3.11  Male    Yes  Sun  Dinner     2\n",
       "  176       17.89  2.00  Male    Yes  Sun  Dinner     2\n",
       "  177       14.48  2.00  Male    Yes  Sun  Dinner     2\n",
       "  179       34.63  3.55  Male    Yes  Sun  Dinner     2\n",
       "  180       34.65  3.68  Male    Yes  Sun  Dinner     4\n",
       "  181       23.33  5.65  Male    Yes  Sun  Dinner     2\n",
       "  182       45.35  3.50  Male    Yes  Sun  Dinner     3\n",
       "  183       23.17  6.50  Male    Yes  Sun  Dinner     4\n",
       "  184       40.55  3.00  Male    Yes  Sun  Dinner     2\n",
       "  185       20.69  5.00  Male     No  Sun  Dinner     5\n",
       "  187       30.46  2.00  Male    Yes  Sun  Dinner     5\n",
       "  189       23.10  4.00  Male    Yes  Sun  Dinner     3\n",
       "  190       15.69  1.50  Male    Yes  Sun  Dinner     2),\n",
       " (('Male', 'Thur'),      total_bill   tip   sex smoker   day   time  size\n",
       "  77        27.20  4.00  Male     No  Thur  Lunch     4\n",
       "  78        22.76  3.00  Male     No  Thur  Lunch     2\n",
       "  79        17.29  2.71  Male     No  Thur  Lunch     2\n",
       "  80        19.44  3.00  Male    Yes  Thur  Lunch     2\n",
       "  81        16.66  3.40  Male     No  Thur  Lunch     2\n",
       "  83        32.68  5.00  Male    Yes  Thur  Lunch     2\n",
       "  84        15.98  2.03  Male     No  Thur  Lunch     2\n",
       "  86        13.03  2.00  Male     No  Thur  Lunch     2\n",
       "  87        18.28  4.00  Male     No  Thur  Lunch     2\n",
       "  88        24.71  5.85  Male     No  Thur  Lunch     2\n",
       "  89        21.16  3.00  Male     No  Thur  Lunch     2\n",
       "  120       11.69  2.31  Male     No  Thur  Lunch     2\n",
       "  122       14.26  2.50  Male     No  Thur  Lunch     2\n",
       "  123       15.95  2.00  Male     No  Thur  Lunch     2\n",
       "  126        8.52  1.48  Male     No  Thur  Lunch     2\n",
       "  129       22.82  2.18  Male     No  Thur  Lunch     3\n",
       "  130       19.08  1.50  Male     No  Thur  Lunch     2\n",
       "  138       16.00  2.00  Male    Yes  Thur  Lunch     2\n",
       "  141       34.30  6.70  Male     No  Thur  Lunch     6\n",
       "  142       41.19  5.00  Male     No  Thur  Lunch     5\n",
       "  148        9.78  1.73  Male     No  Thur  Lunch     2\n",
       "  149        7.51  2.00  Male     No  Thur  Lunch     2\n",
       "  192       28.44  2.56  Male    Yes  Thur  Lunch     2\n",
       "  193       15.48  2.02  Male    Yes  Thur  Lunch     2\n",
       "  194       16.58  4.00  Male    Yes  Thur  Lunch     2\n",
       "  195        7.56  1.44  Male     No  Thur  Lunch     2\n",
       "  196       10.34  2.00  Male    Yes  Thur  Lunch     2\n",
       "  199       13.51  2.00  Male    Yes  Thur  Lunch     2\n",
       "  200       18.71  4.00  Male    Yes  Thur  Lunch     3\n",
       "  204       20.53  4.00  Male    Yes  Thur  Lunch     4)]"
      ]
     },
     "execution_count": 33,
     "metadata": {},
     "output_type": "execute_result"
    }
   ],
   "source": [
    "# Take a look at the structure of the multiple groupby!\n",
    "\n",
    "list(tips.groupby([\"sex\", \"day\"]))\n",
    "\n",
    "#here we have lots of little dataframes, \n",
    "#first element of tuple is a tuple\n",
    "#this is every combination, all laid out for us"
   ]
  },
  {
   "cell_type": "code",
   "execution_count": 34,
   "metadata": {},
   "outputs": [
    {
     "data": {
      "text/html": [
       "<div>\n",
       "<style scoped>\n",
       "    .dataframe tbody tr th:only-of-type {\n",
       "        vertical-align: middle;\n",
       "    }\n",
       "\n",
       "    .dataframe tbody tr th {\n",
       "        vertical-align: top;\n",
       "    }\n",
       "\n",
       "    .dataframe thead th {\n",
       "        text-align: right;\n",
       "    }\n",
       "</style>\n",
       "<table border=\"1\" class=\"dataframe\">\n",
       "  <thead>\n",
       "    <tr style=\"text-align: right;\">\n",
       "      <th></th>\n",
       "      <th></th>\n",
       "      <th>total_bill</th>\n",
       "      <th>tip</th>\n",
       "      <th>size</th>\n",
       "    </tr>\n",
       "    <tr>\n",
       "      <th>sex</th>\n",
       "      <th>day</th>\n",
       "      <th></th>\n",
       "      <th></th>\n",
       "      <th></th>\n",
       "    </tr>\n",
       "  </thead>\n",
       "  <tbody>\n",
       "    <tr>\n",
       "      <td rowspan=\"4\" valign=\"top\">Female</td>\n",
       "      <td>Fri</td>\n",
       "      <td>14.145556</td>\n",
       "      <td>2.781111</td>\n",
       "      <td>2.111111</td>\n",
       "    </tr>\n",
       "    <tr>\n",
       "      <td>Sat</td>\n",
       "      <td>19.680357</td>\n",
       "      <td>2.801786</td>\n",
       "      <td>2.250000</td>\n",
       "    </tr>\n",
       "    <tr>\n",
       "      <td>Sun</td>\n",
       "      <td>19.872222</td>\n",
       "      <td>3.367222</td>\n",
       "      <td>2.944444</td>\n",
       "    </tr>\n",
       "    <tr>\n",
       "      <td>Thur</td>\n",
       "      <td>16.715312</td>\n",
       "      <td>2.575625</td>\n",
       "      <td>2.468750</td>\n",
       "    </tr>\n",
       "    <tr>\n",
       "      <td rowspan=\"4\" valign=\"top\">Male</td>\n",
       "      <td>Fri</td>\n",
       "      <td>19.857000</td>\n",
       "      <td>2.693000</td>\n",
       "      <td>2.100000</td>\n",
       "    </tr>\n",
       "    <tr>\n",
       "      <td>Sat</td>\n",
       "      <td>20.802542</td>\n",
       "      <td>3.083898</td>\n",
       "      <td>2.644068</td>\n",
       "    </tr>\n",
       "    <tr>\n",
       "      <td>Sun</td>\n",
       "      <td>21.887241</td>\n",
       "      <td>3.220345</td>\n",
       "      <td>2.810345</td>\n",
       "    </tr>\n",
       "    <tr>\n",
       "      <td>Thur</td>\n",
       "      <td>18.714667</td>\n",
       "      <td>2.980333</td>\n",
       "      <td>2.433333</td>\n",
       "    </tr>\n",
       "  </tbody>\n",
       "</table>\n",
       "</div>"
      ],
      "text/plain": [
       "             total_bill       tip      size\n",
       "sex    day                                 \n",
       "Female Fri    14.145556  2.781111  2.111111\n",
       "       Sat    19.680357  2.801786  2.250000\n",
       "       Sun    19.872222  3.367222  2.944444\n",
       "       Thur   16.715312  2.575625  2.468750\n",
       "Male   Fri    19.857000  2.693000  2.100000\n",
       "       Sat    20.802542  3.083898  2.644068\n",
       "       Sun    21.887241  3.220345  2.810345\n",
       "       Thur   18.714667  2.980333  2.433333"
      ]
     },
     "execution_count": 34,
     "metadata": {},
     "output_type": "execute_result"
    }
   ],
   "source": [
    "tips.groupby([\"sex\", \"day\"]).mean()\n",
    "#now we have a multi index\n",
    "#generally this can be quite confusing "
   ]
  },
  {
   "cell_type": "code",
   "execution_count": 39,
   "metadata": {},
   "outputs": [
    {
     "data": {
      "text/plain": [
       "MultiIndex([('Female',  'Fri'),\n",
       "            ('Female',  'Sat'),\n",
       "            ('Female',  'Sun'),\n",
       "            ('Female', 'Thur'),\n",
       "            (  'Male',  'Fri'),\n",
       "            (  'Male',  'Sat'),\n",
       "            (  'Male',  'Sun'),\n",
       "            (  'Male', 'Thur')],\n",
       "           names=['sex', 'day'])"
      ]
     },
     "execution_count": 39,
     "metadata": {},
     "output_type": "execute_result"
    }
   ],
   "source": [
    "tips.groupby([\"sex\", \"day\"]).mean().index\n"
   ]
  },
  {
   "cell_type": "markdown",
   "metadata": {
    "slideshow": {
     "slide_type": "slide"
    }
   },
   "source": [
    "## Combining dataframes\n",
    "\n",
    "There are many ways to combine various dataframes into a new one, extending in many ways what we already saw for operations on series. The main (among various) ways of doing this are: \n",
    "\n",
    "+ Concatenate: paste row-column-wise and taking action on NaNs\n",
    "    + This works more on the rectangular structure of the data \n",
    "+ Merge: combine dataframes using a common piece of information, e.g. a common column\n",
    "    + This works more as a database operation\n"
   ]
  },
  {
   "cell_type": "markdown",
   "metadata": {
    "slideshow": {
     "slide_type": "slide"
    }
   },
   "source": [
    "### Concatenate\n",
    "\n",
    "```python\n",
    "pd.concat([df1,df2,...] , axis = 0 , join = \"outer\", *keywds) \n",
    "```\n",
    "\n",
    "+ axis: 0 for pasting below, 1 for pasting on the side (order in list matters either way) \n",
    "\n",
    "What do you think will happen in the following case? \n",
    "\n",
    "```python\n",
    "df1 = pd.DataFrame({\"A\": pd.Series([1,2,3]), \"B\": pd.Series([4,5,6])})\n",
    "df2 = pd.DataFrame({\"A\": pd.Series([4]), \"C\": pd.Series([7])})\n",
    "df = pd.concat([df1,df2])\n",
    "print(df.loc[0])\n",
    "```\n",
    "\n",
    "The argument *join* can control the decisions to be taken in concatenating dataframes with key or index incompatibility. \n",
    "\n",
    "+ join: \"outer\" union, \"inner\" intersection \n",
    "\n",
    "What do you think will happen if we replace the concatenation step by: \n",
    "\n",
    "```python\n",
    "df = pd.concat([df1,df2], join = \"inner\")\n",
    "print(df.loc[0])\n",
    "```\n",
    "\n",
    "And what about this code? \n",
    "\n",
    "```python\n",
    "df1 = pd.DataFrame({\"A\": pd.Series([1,2,3]), \"B\": pd.Series([4,5,6])})\n",
    "df2 = pd.DataFrame({\"A\": pd.Series([4]), \"C\": pd.Series([7])})\n",
    "df = pd.concat([df1,df2],axis = 1,join = \"inner\")\n",
    "print(df[\"A\"])\n",
    "```\n",
    "\n",
    "\n"
   ]
  },
  {
   "cell_type": "code",
   "execution_count": 54,
   "metadata": {},
   "outputs": [
    {
     "data": {
      "text/html": [
       "<div>\n",
       "<style scoped>\n",
       "    .dataframe tbody tr th:only-of-type {\n",
       "        vertical-align: middle;\n",
       "    }\n",
       "\n",
       "    .dataframe tbody tr th {\n",
       "        vertical-align: top;\n",
       "    }\n",
       "\n",
       "    .dataframe thead th {\n",
       "        text-align: right;\n",
       "    }\n",
       "</style>\n",
       "<table border=\"1\" class=\"dataframe\">\n",
       "  <thead>\n",
       "    <tr style=\"text-align: right;\">\n",
       "      <th></th>\n",
       "      <th>A</th>\n",
       "      <th>B</th>\n",
       "    </tr>\n",
       "  </thead>\n",
       "  <tbody>\n",
       "    <tr>\n",
       "      <td>0</td>\n",
       "      <td>1</td>\n",
       "      <td>4</td>\n",
       "    </tr>\n",
       "    <tr>\n",
       "      <td>1</td>\n",
       "      <td>2</td>\n",
       "      <td>5</td>\n",
       "    </tr>\n",
       "    <tr>\n",
       "      <td>2</td>\n",
       "      <td>3</td>\n",
       "      <td>6</td>\n",
       "    </tr>\n",
       "  </tbody>\n",
       "</table>\n",
       "</div>"
      ],
      "text/plain": [
       "   A  B\n",
       "0  1  4\n",
       "1  2  5\n",
       "2  3  6"
      ]
     },
     "metadata": {},
     "output_type": "display_data"
    },
    {
     "data": {
      "text/html": [
       "<div>\n",
       "<style scoped>\n",
       "    .dataframe tbody tr th:only-of-type {\n",
       "        vertical-align: middle;\n",
       "    }\n",
       "\n",
       "    .dataframe tbody tr th {\n",
       "        vertical-align: top;\n",
       "    }\n",
       "\n",
       "    .dataframe thead th {\n",
       "        text-align: right;\n",
       "    }\n",
       "</style>\n",
       "<table border=\"1\" class=\"dataframe\">\n",
       "  <thead>\n",
       "    <tr style=\"text-align: right;\">\n",
       "      <th></th>\n",
       "      <th>A</th>\n",
       "      <th>C</th>\n",
       "    </tr>\n",
       "  </thead>\n",
       "  <tbody>\n",
       "    <tr>\n",
       "      <td>0</td>\n",
       "      <td>4</td>\n",
       "      <td>7</td>\n",
       "    </tr>\n",
       "    <tr>\n",
       "      <td>1</td>\n",
       "      <td>5</td>\n",
       "      <td>5</td>\n",
       "    </tr>\n",
       "    <tr>\n",
       "      <td>2</td>\n",
       "      <td>6</td>\n",
       "      <td>6</td>\n",
       "    </tr>\n",
       "  </tbody>\n",
       "</table>\n",
       "</div>"
      ],
      "text/plain": [
       "   A  C\n",
       "0  4  7\n",
       "1  5  5\n",
       "2  6  6"
      ]
     },
     "metadata": {},
     "output_type": "display_data"
    }
   ],
   "source": [
    "df1 = pd.DataFrame({\"A\": pd.Series([1,2,3]), \"B\": pd.Series([4,5,6])})\n",
    "df2 = pd.DataFrame({\"A\": pd.Series([4,5,6]), \"C\": pd.Series([7,5,6])})\n",
    "\n",
    "display(df1)\n",
    "display(df2)\n",
    "#rows are indexed the same \n",
    "#need to decide, are the 0s different rows?"
   ]
  },
  {
   "cell_type": "code",
   "execution_count": 55,
   "metadata": {},
   "outputs": [
    {
     "name": "stderr",
     "output_type": "stream",
     "text": [
      "/opt/conda/lib/python3.7/site-packages/ipykernel_launcher.py:2: FutureWarning: Sorting because non-concatenation axis is not aligned. A future version\n",
      "of pandas will change to not sort by default.\n",
      "\n",
      "To accept the future behavior, pass 'sort=False'.\n",
      "\n",
      "To retain the current behavior and silence the warning, pass 'sort=True'.\n",
      "\n",
      "  \n"
     ]
    },
    {
     "data": {
      "text/html": [
       "<div>\n",
       "<style scoped>\n",
       "    .dataframe tbody tr th:only-of-type {\n",
       "        vertical-align: middle;\n",
       "    }\n",
       "\n",
       "    .dataframe tbody tr th {\n",
       "        vertical-align: top;\n",
       "    }\n",
       "\n",
       "    .dataframe thead th {\n",
       "        text-align: right;\n",
       "    }\n",
       "</style>\n",
       "<table border=\"1\" class=\"dataframe\">\n",
       "  <thead>\n",
       "    <tr style=\"text-align: right;\">\n",
       "      <th></th>\n",
       "      <th>A</th>\n",
       "      <th>B</th>\n",
       "      <th>C</th>\n",
       "    </tr>\n",
       "  </thead>\n",
       "  <tbody>\n",
       "    <tr>\n",
       "      <td>0</td>\n",
       "      <td>1</td>\n",
       "      <td>4.0</td>\n",
       "      <td>NaN</td>\n",
       "    </tr>\n",
       "    <tr>\n",
       "      <td>1</td>\n",
       "      <td>2</td>\n",
       "      <td>5.0</td>\n",
       "      <td>NaN</td>\n",
       "    </tr>\n",
       "    <tr>\n",
       "      <td>2</td>\n",
       "      <td>3</td>\n",
       "      <td>6.0</td>\n",
       "      <td>NaN</td>\n",
       "    </tr>\n",
       "    <tr>\n",
       "      <td>0</td>\n",
       "      <td>4</td>\n",
       "      <td>NaN</td>\n",
       "      <td>7.0</td>\n",
       "    </tr>\n",
       "    <tr>\n",
       "      <td>1</td>\n",
       "      <td>5</td>\n",
       "      <td>NaN</td>\n",
       "      <td>5.0</td>\n",
       "    </tr>\n",
       "    <tr>\n",
       "      <td>2</td>\n",
       "      <td>6</td>\n",
       "      <td>NaN</td>\n",
       "      <td>6.0</td>\n",
       "    </tr>\n",
       "  </tbody>\n",
       "</table>\n",
       "</div>"
      ],
      "text/plain": [
       "   A    B    C\n",
       "0  1  4.0  NaN\n",
       "1  2  5.0  NaN\n",
       "2  3  6.0  NaN\n",
       "0  4  NaN  7.0\n",
       "1  5  NaN  5.0\n",
       "2  6  NaN  6.0"
      ]
     },
     "execution_count": 55,
     "metadata": {},
     "output_type": "execute_result"
    }
   ],
   "source": [
    "#axis defaults to 0\n",
    "pd.concat([df1,df2], axis=0)\n",
    "\n",
    "\n",
    "#a future warning, is the way to say.. it will work differently in a new version.\n",
    "#it tells you to explicitly choose the sort. they've changed the default in future"
   ]
  },
  {
   "cell_type": "code",
   "execution_count": 56,
   "metadata": {},
   "outputs": [
    {
     "data": {
      "text/html": [
       "<div>\n",
       "<style scoped>\n",
       "    .dataframe tbody tr th:only-of-type {\n",
       "        vertical-align: middle;\n",
       "    }\n",
       "\n",
       "    .dataframe tbody tr th {\n",
       "        vertical-align: top;\n",
       "    }\n",
       "\n",
       "    .dataframe thead th {\n",
       "        text-align: right;\n",
       "    }\n",
       "</style>\n",
       "<table border=\"1\" class=\"dataframe\">\n",
       "  <thead>\n",
       "    <tr style=\"text-align: right;\">\n",
       "      <th></th>\n",
       "      <th>A</th>\n",
       "      <th>B</th>\n",
       "      <th>A</th>\n",
       "      <th>C</th>\n",
       "    </tr>\n",
       "  </thead>\n",
       "  <tbody>\n",
       "    <tr>\n",
       "      <td>0</td>\n",
       "      <td>1</td>\n",
       "      <td>4</td>\n",
       "      <td>4</td>\n",
       "      <td>7</td>\n",
       "    </tr>\n",
       "    <tr>\n",
       "      <td>1</td>\n",
       "      <td>2</td>\n",
       "      <td>5</td>\n",
       "      <td>5</td>\n",
       "      <td>5</td>\n",
       "    </tr>\n",
       "    <tr>\n",
       "      <td>2</td>\n",
       "      <td>3</td>\n",
       "      <td>6</td>\n",
       "      <td>6</td>\n",
       "      <td>6</td>\n",
       "    </tr>\n",
       "  </tbody>\n",
       "</table>\n",
       "</div>"
      ],
      "text/plain": [
       "   A  B  A  C\n",
       "0  1  4  4  7\n",
       "1  2  5  5  5\n",
       "2  3  6  6  6"
      ]
     },
     "execution_count": 56,
     "metadata": {},
     "output_type": "execute_result"
    }
   ],
   "source": [
    "pd.concat([df1,df2], axis=1)"
   ]
  },
  {
   "cell_type": "code",
   "execution_count": 57,
   "metadata": {},
   "outputs": [
    {
     "data": {
      "text/html": [
       "<div>\n",
       "<style scoped>\n",
       "    .dataframe tbody tr th:only-of-type {\n",
       "        vertical-align: middle;\n",
       "    }\n",
       "\n",
       "    .dataframe tbody tr th {\n",
       "        vertical-align: top;\n",
       "    }\n",
       "\n",
       "    .dataframe thead th {\n",
       "        text-align: right;\n",
       "    }\n",
       "</style>\n",
       "<table border=\"1\" class=\"dataframe\">\n",
       "  <thead>\n",
       "    <tr style=\"text-align: right;\">\n",
       "      <th></th>\n",
       "      <th>A</th>\n",
       "      <th>B</th>\n",
       "      <th>C</th>\n",
       "    </tr>\n",
       "  </thead>\n",
       "  <tbody>\n",
       "    <tr>\n",
       "      <td>0</td>\n",
       "      <td>1</td>\n",
       "      <td>4.0</td>\n",
       "      <td>NaN</td>\n",
       "    </tr>\n",
       "    <tr>\n",
       "      <td>1</td>\n",
       "      <td>2</td>\n",
       "      <td>5.0</td>\n",
       "      <td>NaN</td>\n",
       "    </tr>\n",
       "    <tr>\n",
       "      <td>2</td>\n",
       "      <td>3</td>\n",
       "      <td>6.0</td>\n",
       "      <td>NaN</td>\n",
       "    </tr>\n",
       "    <tr>\n",
       "      <td>0</td>\n",
       "      <td>4</td>\n",
       "      <td>NaN</td>\n",
       "      <td>7.0</td>\n",
       "    </tr>\n",
       "  </tbody>\n",
       "</table>\n",
       "</div>"
      ],
      "text/plain": [
       "   A    B    C\n",
       "0  1  4.0  NaN\n",
       "1  2  5.0  NaN\n",
       "2  3  6.0  NaN\n",
       "0  4  NaN  7.0"
      ]
     },
     "execution_count": 57,
     "metadata": {},
     "output_type": "execute_result"
    }
   ],
   "source": [
    "df1 = pd.DataFrame({\"A\": pd.Series([1,2,3]), \"B\": pd.Series([4,5,6])})\n",
    "df2 = pd.DataFrame({\"A\": pd.Series([4]), \"C\": pd.Series([7])})\n",
    "pd.concat([df1, df2], axis=0, sort=False) #remember the sort is to get rid of the future warning"
   ]
  },
  {
   "cell_type": "markdown",
   "metadata": {
    "slideshow": {
     "slide_type": "slide"
    }
   },
   "source": [
    "### Merge\n",
    "\n",
    "The concept here is to connect two DataFrames on some common piece of information, e.g. a common column. The structure of the command is: \n",
    "\n",
    "```python\n",
    "pd.merge(leftdf, rightdf, how = \"inner\", on = , *keywds)  \n",
    "```\n",
    "\n",
    "+ \"on\" defines on what piece of information the DataFrames will merge, this can be a column name or a list thereof\n",
    "+ \"how\" is more versatile than \"join\" in pd.concat. There are four options:\n",
    "    + \"inner\": intersection of keys\n",
    "    + \"outer\": union of keys\n",
    "    + \"left\": use keys from left only\n",
    "    + \"right\": use keys from right only\n",
    "\n",
    "\n",
    "We revisit the previous construct and try now to merge instead. What do you think will happen below: (and what about the index labels now, compared to pd.concat??) \n",
    "\n",
    "```python\n",
    "df1 = pd.DataFrame({\"A\": pd.Series([1,2,3]), \"B\": pd.Series([4,5,6])})\n",
    "df2 = pd.DataFrame({\"A\": pd.Series([4]), \"C\": pd.Series([7])})\n",
    "df = pd.merge(df1,df2,on = \"A\", how = \"outer\")\n",
    "print(df)\n",
    "```\n",
    "and what will happen if \"how\" changes to each of the other options?"
   ]
  },
  {
   "cell_type": "markdown",
   "metadata": {},
   "source": [
    "#### 4 options of the joins\n",
    "    -inner join\n",
    "    -full join\n",
    "    -left join\n",
    "    -right join"
   ]
  },
  {
   "cell_type": "code",
   "execution_count": 60,
   "metadata": {},
   "outputs": [
    {
     "data": {
      "text/html": [
       "<div>\n",
       "<style scoped>\n",
       "    .dataframe tbody tr th:only-of-type {\n",
       "        vertical-align: middle;\n",
       "    }\n",
       "\n",
       "    .dataframe tbody tr th {\n",
       "        vertical-align: top;\n",
       "    }\n",
       "\n",
       "    .dataframe thead th {\n",
       "        text-align: right;\n",
       "    }\n",
       "</style>\n",
       "<table border=\"1\" class=\"dataframe\">\n",
       "  <thead>\n",
       "    <tr style=\"text-align: right;\">\n",
       "      <th></th>\n",
       "      <th>A</th>\n",
       "      <th>B</th>\n",
       "      <th>X</th>\n",
       "      <th>C</th>\n",
       "    </tr>\n",
       "  </thead>\n",
       "  <tbody>\n",
       "    <tr>\n",
       "      <td>0</td>\n",
       "      <td>1</td>\n",
       "      <td>4</td>\n",
       "      <td>4</td>\n",
       "      <td>7</td>\n",
       "    </tr>\n",
       "    <tr>\n",
       "      <td>1</td>\n",
       "      <td>2</td>\n",
       "      <td>5</td>\n",
       "      <td>5</td>\n",
       "      <td>5</td>\n",
       "    </tr>\n",
       "    <tr>\n",
       "      <td>2</td>\n",
       "      <td>3</td>\n",
       "      <td>6</td>\n",
       "      <td>6</td>\n",
       "      <td>6</td>\n",
       "    </tr>\n",
       "  </tbody>\n",
       "</table>\n",
       "</div>"
      ],
      "text/plain": [
       "   A  B  X  C\n",
       "0  1  4  4  7\n",
       "1  2  5  5  5\n",
       "2  3  6  6  6"
      ]
     },
     "execution_count": 60,
     "metadata": {},
     "output_type": "execute_result"
    }
   ],
   "source": [
    "df1 = pd.DataFrame({\"A\": pd.Series([1,2,3]), \"B\": pd.Series([4,5,6])})\n",
    "df2 = pd.DataFrame({\"X\": pd.Series([4,5,6]), \"C\": pd.Series([7,5,6])})\n",
    "pd.merge(df1, df2, left_on='B', right_on='X')"
   ]
  },
  {
   "cell_type": "code",
   "execution_count": 68,
   "metadata": {},
   "outputs": [
    {
     "data": {
      "text/html": [
       "<div>\n",
       "<style scoped>\n",
       "    .dataframe tbody tr th:only-of-type {\n",
       "        vertical-align: middle;\n",
       "    }\n",
       "\n",
       "    .dataframe tbody tr th {\n",
       "        vertical-align: top;\n",
       "    }\n",
       "\n",
       "    .dataframe thead th {\n",
       "        text-align: right;\n",
       "    }\n",
       "</style>\n",
       "<table border=\"1\" class=\"dataframe\">\n",
       "  <thead>\n",
       "    <tr style=\"text-align: right;\">\n",
       "      <th></th>\n",
       "      <th>A</th>\n",
       "      <th>B</th>\n",
       "      <th>X</th>\n",
       "      <th>C</th>\n",
       "      <th>_merge</th>\n",
       "    </tr>\n",
       "  </thead>\n",
       "  <tbody>\n",
       "    <tr>\n",
       "      <td>0</td>\n",
       "      <td>1</td>\n",
       "      <td>4</td>\n",
       "      <td>4</td>\n",
       "      <td>7</td>\n",
       "      <td>both</td>\n",
       "    </tr>\n",
       "    <tr>\n",
       "      <td>1</td>\n",
       "      <td>2</td>\n",
       "      <td>5</td>\n",
       "      <td>5</td>\n",
       "      <td>5</td>\n",
       "      <td>both</td>\n",
       "    </tr>\n",
       "    <tr>\n",
       "      <td>2</td>\n",
       "      <td>3</td>\n",
       "      <td>6</td>\n",
       "      <td>6</td>\n",
       "      <td>6</td>\n",
       "      <td>both</td>\n",
       "    </tr>\n",
       "  </tbody>\n",
       "</table>\n",
       "</div>"
      ],
      "text/plain": [
       "   A  B  X  C _merge\n",
       "0  1  4  4  7   both\n",
       "1  2  5  5  5   both\n",
       "2  3  6  6  6   both"
      ]
     },
     "execution_count": 68,
     "metadata": {},
     "output_type": "execute_result"
    }
   ],
   "source": [
    "pd.merge(df1, df2, left_on='B', right_on='X', how='right', indicator=True)\n",
    "#indicator tells you a summary of what's merged"
   ]
  },
  {
   "cell_type": "code",
   "execution_count": null,
   "metadata": {},
   "outputs": [],
   "source": [
    "#you have to tell it which column to join on.\n",
    "#maybe the two columns in the two different dataframes have the same column name"
   ]
  },
  {
   "cell_type": "markdown",
   "metadata": {},
   "source": [
    "## Working with non-rectangular data\n",
    "\n",
    "We mentioned in the beginning that Pandas is a library for working with rectangular data. \n",
    "\n",
    "What if your data is not rectangular? What does non-rectangular data look like? Very often our data might come in dictionaries. Imagine data about a \"tweet\". It might look like this: \n",
    "\n",
    "\n",
    "```python\n",
    "{\n",
    "    \"screenname\": \"nandanrao\",\n",
    "    \"id_str\": \"928374987\",\n",
    "    \"text\": \"Woah, pandas is so much fun #worldrocked #jawdrop #win\",\n",
    "    \"hashtags\": [\"worldrocked\", \"jawdrop\", \"win\"]\n",
    "}\n",
    "```\n",
    "\n",
    "How would you fit this into a rectangular data format? Do the \"hashtags\" cause a problem? "
   ]
  },
  {
   "cell_type": "code",
   "execution_count": 73,
   "metadata": {
    "scrolled": true
   },
   "outputs": [
    {
     "data": {
      "text/html": [
       "<div>\n",
       "<style scoped>\n",
       "    .dataframe tbody tr th:only-of-type {\n",
       "        vertical-align: middle;\n",
       "    }\n",
       "\n",
       "    .dataframe tbody tr th {\n",
       "        vertical-align: top;\n",
       "    }\n",
       "\n",
       "    .dataframe thead th {\n",
       "        text-align: right;\n",
       "    }\n",
       "</style>\n",
       "<table border=\"1\" class=\"dataframe\">\n",
       "  <thead>\n",
       "    <tr style=\"text-align: right;\">\n",
       "      <th></th>\n",
       "      <th>screenname</th>\n",
       "      <th>id_str</th>\n",
       "      <th>text</th>\n",
       "      <th>hashtags</th>\n",
       "    </tr>\n",
       "  </thead>\n",
       "  <tbody>\n",
       "    <tr>\n",
       "      <td>0</td>\n",
       "      <td>nandanrao</td>\n",
       "      <td>928374987</td>\n",
       "      <td>Woah, pandas is so much fun #worldrocked #jawd...</td>\n",
       "      <td>[worldrocked, jawdrop, ml]</td>\n",
       "    </tr>\n",
       "    <tr>\n",
       "      <td>1</td>\n",
       "      <td>om</td>\n",
       "      <td>98214039</td>\n",
       "      <td>I eat linear models for breakfast #datascience...</td>\n",
       "      <td>[datascience, ml, crossfit]</td>\n",
       "    </tr>\n",
       "  </tbody>\n",
       "</table>\n",
       "</div>"
      ],
      "text/plain": [
       "  screenname     id_str                                               text  \\\n",
       "0  nandanrao  928374987  Woah, pandas is so much fun #worldrocked #jawd...   \n",
       "1         om   98214039  I eat linear models for breakfast #datascience...   \n",
       "\n",
       "                      hashtags  \n",
       "0   [worldrocked, jawdrop, ml]  \n",
       "1  [datascience, ml, crossfit]  "
      ]
     },
     "execution_count": 73,
     "metadata": {},
     "output_type": "execute_result"
    }
   ],
   "source": [
    "raw_tweets = [{ \"screenname\": \"nandanrao\",\n",
    "          \"id_str\": \"928374987\",\n",
    "          \"text\": \"Woah, pandas is so much fun #worldrocked #jawdrop #ml\",\n",
    "          \"hashtags\": [\"worldrocked\", \"jawdrop\", \"ml\"]},\n",
    "              \n",
    "          {\"screenname\": \"om\",\n",
    "           \"id_str\": \"98214039\",\n",
    "           \"text\": \"I eat linear models for breakfast #datascience #ml #crossfit\",\n",
    "           \"hashtags\": [\"datascience\", \"ml\", \"crossfit\"]}]\n",
    "\n",
    "tweets = pd.DataFrame(raw_tweets)\n",
    "#to create a datafram with pd.DataFrame give it a list of dictionaries or just one dictionary\n",
    "\n",
    "# What is the \"hashtag\" column made of? \n",
    "tweets"
   ]
  },
  {
   "cell_type": "code",
   "execution_count": 74,
   "metadata": {},
   "outputs": [
    {
     "data": {
      "text/plain": [
       "0     [worldrocked, jawdrop, ml]\n",
       "1    [datascience, ml, crossfit]\n",
       "Name: hashtags, dtype: object"
      ]
     },
     "execution_count": 74,
     "metadata": {},
     "output_type": "execute_result"
    }
   ],
   "source": [
    "tweets.hashtags"
   ]
  },
  {
   "cell_type": "markdown",
   "metadata": {},
   "source": [
    "## Merge keeps the data flat\n",
    "\n",
    "The correct way to use data such as this in pandas, data with nested lists, is to copy each tweet to multiple rows, one row for each hashtag. \n",
    "\n",
    "We can use \"merge\" to do this for us automatically if we put the data into two separate dataframes, one for the hashtags and one for the rest of the tweets. This is called \"normalized form\" and is often how you will find data if you get it from a SQL database: "
   ]
  },
  {
   "cell_type": "code",
   "execution_count": 75,
   "metadata": {},
   "outputs": [
    {
     "data": {
      "text/html": [
       "<div>\n",
       "<style scoped>\n",
       "    .dataframe tbody tr th:only-of-type {\n",
       "        vertical-align: middle;\n",
       "    }\n",
       "\n",
       "    .dataframe tbody tr th {\n",
       "        vertical-align: top;\n",
       "    }\n",
       "\n",
       "    .dataframe thead th {\n",
       "        text-align: right;\n",
       "    }\n",
       "</style>\n",
       "<table border=\"1\" class=\"dataframe\">\n",
       "  <thead>\n",
       "    <tr style=\"text-align: right;\">\n",
       "      <th></th>\n",
       "      <th>screenname</th>\n",
       "      <th>id_str</th>\n",
       "      <th>text</th>\n",
       "    </tr>\n",
       "  </thead>\n",
       "  <tbody>\n",
       "    <tr>\n",
       "      <td>0</td>\n",
       "      <td>nandanrao</td>\n",
       "      <td>928374987</td>\n",
       "      <td>Woah, pandas is so much fun #worldrocked #jawd...</td>\n",
       "    </tr>\n",
       "    <tr>\n",
       "      <td>1</td>\n",
       "      <td>om</td>\n",
       "      <td>98214039</td>\n",
       "      <td>I eat linear models for breakfast #datascience...</td>\n",
       "    </tr>\n",
       "  </tbody>\n",
       "</table>\n",
       "</div>"
      ],
      "text/plain": [
       "  screenname     id_str                                               text\n",
       "0  nandanrao  928374987  Woah, pandas is so much fun #worldrocked #jawd...\n",
       "1         om   98214039  I eat linear models for breakfast #datascience..."
      ]
     },
     "execution_count": 75,
     "metadata": {},
     "output_type": "execute_result"
    }
   ],
   "source": [
    "tweets = pd.DataFrame(raw_tweets, columns = [\"screenname\", \"id_str\", \"text\"])\n",
    "tweets"
   ]
  },
  {
   "cell_type": "markdown",
   "metadata": {},
   "source": [
    "#### here we're getting a flattened list of all the hashtags, a tuple of.. each hashtag and it's id string"
   ]
  },
  {
   "cell_type": "code",
   "execution_count": 76,
   "metadata": {},
   "outputs": [
    {
     "data": {
      "text/html": [
       "<div>\n",
       "<style scoped>\n",
       "    .dataframe tbody tr th:only-of-type {\n",
       "        vertical-align: middle;\n",
       "    }\n",
       "\n",
       "    .dataframe tbody tr th {\n",
       "        vertical-align: top;\n",
       "    }\n",
       "\n",
       "    .dataframe thead th {\n",
       "        text-align: right;\n",
       "    }\n",
       "</style>\n",
       "<table border=\"1\" class=\"dataframe\">\n",
       "  <thead>\n",
       "    <tr style=\"text-align: right;\">\n",
       "      <th></th>\n",
       "      <th>id_str</th>\n",
       "      <th>hashtag</th>\n",
       "    </tr>\n",
       "  </thead>\n",
       "  <tbody>\n",
       "    <tr>\n",
       "      <td>0</td>\n",
       "      <td>928374987</td>\n",
       "      <td>worldrocked</td>\n",
       "    </tr>\n",
       "    <tr>\n",
       "      <td>1</td>\n",
       "      <td>928374987</td>\n",
       "      <td>jawdrop</td>\n",
       "    </tr>\n",
       "    <tr>\n",
       "      <td>2</td>\n",
       "      <td>928374987</td>\n",
       "      <td>ml</td>\n",
       "    </tr>\n",
       "    <tr>\n",
       "      <td>3</td>\n",
       "      <td>98214039</td>\n",
       "      <td>datascience</td>\n",
       "    </tr>\n",
       "    <tr>\n",
       "      <td>4</td>\n",
       "      <td>98214039</td>\n",
       "      <td>ml</td>\n",
       "    </tr>\n",
       "    <tr>\n",
       "      <td>5</td>\n",
       "      <td>98214039</td>\n",
       "      <td>crossfit</td>\n",
       "    </tr>\n",
       "  </tbody>\n",
       "</table>\n",
       "</div>"
      ],
      "text/plain": [
       "      id_str      hashtag\n",
       "0  928374987  worldrocked\n",
       "1  928374987      jawdrop\n",
       "2  928374987           ml\n",
       "3   98214039  datascience\n",
       "4   98214039           ml\n",
       "5   98214039     crossfit"
      ]
     },
     "execution_count": 76,
     "metadata": {},
     "output_type": "execute_result"
    }
   ],
   "source": [
    "tags_and_ids = [(t['id_str'], tag) \n",
    "                for t in raw_tweets \n",
    "                for tag in t['hashtags']]\n",
    "\n",
    "hashtags = pd.DataFrame(tags_and_ids, columns = ['id_str', 'hashtag'])\n",
    "#we pass dataframe with a list of tuples\n",
    "\n",
    "hashtags"
   ]
  },
  {
   "cell_type": "code",
   "execution_count": 64,
   "metadata": {},
   "outputs": [
    {
     "data": {
      "text/html": [
       "<div>\n",
       "<style scoped>\n",
       "    .dataframe tbody tr th:only-of-type {\n",
       "        vertical-align: middle;\n",
       "    }\n",
       "\n",
       "    .dataframe tbody tr th {\n",
       "        vertical-align: top;\n",
       "    }\n",
       "\n",
       "    .dataframe thead th {\n",
       "        text-align: right;\n",
       "    }\n",
       "</style>\n",
       "<table border=\"1\" class=\"dataframe\">\n",
       "  <thead>\n",
       "    <tr style=\"text-align: right;\">\n",
       "      <th></th>\n",
       "      <th>screenname</th>\n",
       "      <th>id_str</th>\n",
       "      <th>text</th>\n",
       "      <th>hashtag</th>\n",
       "    </tr>\n",
       "  </thead>\n",
       "  <tbody>\n",
       "    <tr>\n",
       "      <td>0</td>\n",
       "      <td>nandanrao</td>\n",
       "      <td>928374987</td>\n",
       "      <td>Woah, pandas is so much fun #worldrocked #jawd...</td>\n",
       "      <td>worldrocked</td>\n",
       "    </tr>\n",
       "    <tr>\n",
       "      <td>1</td>\n",
       "      <td>nandanrao</td>\n",
       "      <td>928374987</td>\n",
       "      <td>Woah, pandas is so much fun #worldrocked #jawd...</td>\n",
       "      <td>jawdrop</td>\n",
       "    </tr>\n",
       "    <tr>\n",
       "      <td>2</td>\n",
       "      <td>nandanrao</td>\n",
       "      <td>928374987</td>\n",
       "      <td>Woah, pandas is so much fun #worldrocked #jawd...</td>\n",
       "      <td>ml</td>\n",
       "    </tr>\n",
       "    <tr>\n",
       "      <td>3</td>\n",
       "      <td>om</td>\n",
       "      <td>98214039</td>\n",
       "      <td>I eat linear models for breakfast #datascience...</td>\n",
       "      <td>datascience</td>\n",
       "    </tr>\n",
       "    <tr>\n",
       "      <td>4</td>\n",
       "      <td>om</td>\n",
       "      <td>98214039</td>\n",
       "      <td>I eat linear models for breakfast #datascience...</td>\n",
       "      <td>ml</td>\n",
       "    </tr>\n",
       "    <tr>\n",
       "      <td>5</td>\n",
       "      <td>om</td>\n",
       "      <td>98214039</td>\n",
       "      <td>I eat linear models for breakfast #datascience...</td>\n",
       "      <td>crossfit</td>\n",
       "    </tr>\n",
       "  </tbody>\n",
       "</table>\n",
       "</div>"
      ],
      "text/plain": [
       "  screenname     id_str                                               text  \\\n",
       "0  nandanrao  928374987  Woah, pandas is so much fun #worldrocked #jawd...   \n",
       "1  nandanrao  928374987  Woah, pandas is so much fun #worldrocked #jawd...   \n",
       "2  nandanrao  928374987  Woah, pandas is so much fun #worldrocked #jawd...   \n",
       "3         om   98214039  I eat linear models for breakfast #datascience...   \n",
       "4         om   98214039  I eat linear models for breakfast #datascience...   \n",
       "5         om   98214039  I eat linear models for breakfast #datascience...   \n",
       "\n",
       "       hashtag  \n",
       "0  worldrocked  \n",
       "1      jawdrop  \n",
       "2           ml  \n",
       "3  datascience  \n",
       "4           ml  \n",
       "5     crossfit  "
      ]
     },
     "execution_count": 64,
     "metadata": {},
     "output_type": "execute_result"
    }
   ],
   "source": [
    "#now we have it in this long format\n",
    "#it's called long because some of stuff has been repeated\n",
    "#but it's fine because now we can use the hashtags\n",
    "\n",
    "df = tweets.merge(hashtags, how='left')\n",
    "\n",
    "df"
   ]
  },
  {
   "cell_type": "markdown",
   "metadata": {},
   "source": [
    "## Programming project: Customer of the month\n",
    "\n",
    "\n",
    "- We have a list of prices for certain products given in the file \"supermarket_prices.csv\"\n",
    "- We have a list of transactions from certain customers in a period of a month given in \"supermarket_transactions.csv\"\n",
    "\n",
    "Calculate\n",
    "- How many items each client has purchased\n",
    "- How many items of each type each client has purchased\n",
    "- Calculate the total amount spent by each client\n",
    "- The company that provides the supermarket with bananas wishes to give a prize to the client that has spent the largest proportion of their spending on bananas. Who should win the prize? \n",
    "- A marketing company that works with the supermarket is interested to understand better the characteristics of the three people that have spent most of their spending on bananas. For each one of them report the other product that they have spent most of their remaining income on\n",
    "\n",
    "*Needless to say that eyeballing is OK for making sure your code makes sense, but will not result in full credits for the project. We want a fully automated code. To carry out the project successfully you need to use most the attributes and methods described earlier. The last one is a little tricky*"
   ]
  }
 ],
 "metadata": {
  "celltoolbar": "Slideshow",
  "kernelspec": {
   "display_name": "Python 3",
   "language": "python",
   "name": "python3"
  },
  "language_info": {
   "codemirror_mode": {
    "name": "ipython",
    "version": 3
   },
   "file_extension": ".py",
   "mimetype": "text/x-python",
   "name": "python",
   "nbconvert_exporter": "python",
   "pygments_lexer": "ipython3",
   "version": "3.7.3"
  }
 },
 "nbformat": 4,
 "nbformat_minor": 2
}
